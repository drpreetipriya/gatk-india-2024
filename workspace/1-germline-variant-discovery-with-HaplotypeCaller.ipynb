{
 "cells": [
  {
   "cell_type": "markdown",
   "metadata": {
    "colab_type": "text",
    "id": "Kfu2opPl_sYs"
   },
   "source": [
    "# GATK Germline Variant Discovery Tutorial <a class=\"tocSkip\">"
   ]
  },
  {
   "cell_type": "markdown",
   "metadata": {
    "colab_type": "text",
    "id": "XfB42nVh_sYt"
   },
   "source": [
    "**February 2020**  \n",
    "\n",
    "<img src=\"https://storage.googleapis.com/gatk-tutorials/images/2-germline/vd-image1.png\" alt=\"drawing\" width=\"40%\" align=\"left\" style=\"margin:0px 20px\"/> \n",
    "<font size=\"4\">The tutorial demonstrates an effective workflow for joint calling germline SNPs and indels in cohorts of multiple samples. The workflow applies to whole genome or exome data. Specifically, the tutorial uses a trio of WG sample snippets to demonstrate HaplotypeCaller's GVCF workflow for joint variant analysis. We use a GenomicsDB database structure, perform a genotype refinement based on family pedigree, and evaluate the effects of refinement.</font>\n",
    "\n",
    "_This tutorial was last tested with the GATK v4.1.4.1 and IGV v2.8.0._\n",
    " See [GATK Tool Documentation](https://gatk.broadinstitute.org/hc/en-us/articles/360037224712) for further information on the tools we use."
   ]
  },
  {
   "cell_type": "markdown",
   "metadata": {
    "colab_type": "text",
    "id": "CFlXtCPE_sYu"
   },
   "source": [
    "# Set up your Notebook\n",
    "## Set cloud environment values\n",
    "If you opened this notebook and didn't adjust any cloud environment values, now's the time to edit them. Click on the open button in the upper left to edit your Cloud Environment form. Set the values as specified below:\n",
    "\n",
    "| Option | Value |\n",
    "| ------ | ------ |\n",
    "| Environment | Default |\n",
    "| Profile | Custom |\n",
    "| CPU | 4 |\n",
    "| Disk size | 100 GB |\n",
    "| Memory | 15 GB |\n",
    "\n",
    "Click the \"Update\" button when you are done, and Terra will begin to create a new cloud environment with your settings. When it is finished, it will pop up asking you to apply the new settings.\n",
    "\n",
    "## Check kernel type\n",
    "A kernel is a _computational engine_ that executes the code in the notebook. For this particular notebook, we will be using a Python 3 kernel so we can execute GATK commands using _Python Magic_ (`!`). In the upper right corner of the notebook, just under the Notebook Runtime, it should say `Python3`. If this notebook isn't running a Python 3 kernel, you can switch it by navigating to the Kernel menu and selecting `Change kernel`.\n",
    "\n",
    "## Set up your files\n",
    "Your notebook has a temporary folder that exists so long as your cluster is running. To see what files are in your notebook environment at any time, you can click on the Jupyter logo in the upper left corner. \n",
    "\n",
    "For this tutorial, we need to copy some files from this temporary folder to and from our workspace bucket. Run the commands below to set up environment variables and the file paths inside your notebook.\n",
    "\n",
    "<font color = \"green\"> **Tool Tip:** To run a cell in a notebook, press `SHIFT + ENTER`</font>"
   ]
  },
  {
   "cell_type": "code",
   "execution_count": 1,
   "metadata": {
    "colab": {},
    "colab_type": "code",
    "id": "VcIErgjx_sYu",
    "scrolled": true
   },
   "outputs": [],
   "source": [
    "# Set your workspace bucket variable for this notebook.\n",
    "import os\n",
    "# BUCKET = os.environ['WORKSPACE_BUCKET']\n",
    "\n",
    "# Set workshop variable to access the most recent materials\n",
    "WORKSHOP = \"workshop_2002\""
   ]
  },
  {
   "cell_type": "code",
   "execution_count": 2,
   "metadata": {
    "colab": {},
    "colab_type": "code",
    "id": "Mg-E9x9A_sYx",
    "scrolled": true
   },
   "outputs": [],
   "source": [
    "# Create directories for your files to live inside this notebook\n",
    "! mkdir -p /home/jupyter/notebooks/2-germline-vd/sandbox/\n",
    "! mkdir -p /home/jupyter/notebooks/2-germline-vd/ref\n",
    "! mkdir -p /home/jupyter/notebooks/2-germline-vd/resources\n",
    "! mkdir -p /home/jupyter/notebooks/2-germline-vd/gvcfs\n",
    "! mkdir -p /home/jupyter/notebooks/CNN/Output/"
   ]
  },
  {
   "cell_type": "markdown",
   "metadata": {
    "colab_type": "text",
    "id": "XzfJP4If_sY0"
   },
   "source": [
    "## Check data permissions\n",
    "For this tutorial, we have hosted the starting files in a public Google bucket. We will first check that the data is available to your user account, and if it is not, we simply need to install Google Cloud Storage."
   ]
  },
  {
   "cell_type": "code",
   "execution_count": 3,
   "metadata": {
    "colab": {
     "base_uri": "https://localhost:8080/",
     "height": 318
    },
    "colab_type": "code",
    "executionInfo": {
     "elapsed": 9902,
     "status": "ok",
     "timestamp": 1560183294278,
     "user": {
      "displayName": "Adelaide Rhodes",
      "photoUrl": "https://lh6.googleusercontent.com/-btsjdXqDOaw/AAAAAAAAAAI/AAAAAAAAAAc/bSfvkT4xjiw/s64/photo.jpg",
      "userId": "01268730178107877997"
     },
     "user_tz": 240
    },
    "id": "SjEiRqH4_sY0",
    "outputId": "15042217-97b7-4fa4-9d62-cb7bb175ce67",
    "scrolled": true
   },
   "outputs": [
    {
     "name": "stdout",
     "output_type": "stream",
     "text": [
      "gs://gatk-tutorials/workshop_2002/2-germline/trio.ped\r\n",
      "gs://gatk-tutorials/workshop_2002/2-germline/CNNScoreVariants/\r\n",
      "gs://gatk-tutorials/workshop_2002/2-germline/bams/\r\n",
      "gs://gatk-tutorials/workshop_2002/2-germline/gvcfs/\r\n",
      "gs://gatk-tutorials/workshop_2002/2-germline/illumina_platinum/\r\n",
      "gs://gatk-tutorials/workshop_2002/2-germline/intervals/\r\n",
      "gs://gatk-tutorials/workshop_2002/2-germline/ref/\r\n",
      "gs://gatk-tutorials/workshop_2002/2-germline/resources/\r\n"
     ]
    }
   ],
   "source": [
    "# Check if data is accessible. The command should list several gs:// URLs.\n",
    "! gsutil ls gs://gatk-tutorials/$WORKSHOP/2-germline/"
   ]
  },
  {
   "cell_type": "code",
   "execution_count": 5,
   "metadata": {
    "colab": {},
    "colab_type": "code",
    "id": "FbSTRvc0_sY2",
    "scrolled": true
   },
   "outputs": [],
   "source": [
    "# If you do not see gs:// URLs listed above, uncomment the last line in this cell\n",
    "# and run it to install Google Cloud Storage. \n",
    "# Afterwards, restart the kernel with Kernel > Restart.\n",
    "#! pip install google-cloud-storage"
   ]
  },
  {
   "cell_type": "markdown",
   "metadata": {
    "colab_type": "text",
    "id": "I95K0qyU_sY4"
   },
   "source": [
    "## Download Data to the Notebook \n",
    "Some tools are not able to read directly from a Google bucket, so we download their files to our local notebook folder."
   ]
  },
  {
   "cell_type": "code",
   "execution_count": 4,
   "metadata": {
    "colab": {
     "base_uri": "https://localhost:8080/",
     "height": 478
    },
    "colab_type": "code",
    "executionInfo": {
     "elapsed": 16135,
     "status": "ok",
     "timestamp": 1560183314333,
     "user": {
      "displayName": "Adelaide Rhodes",
      "photoUrl": "https://lh6.googleusercontent.com/-btsjdXqDOaw/AAAAAAAAAAI/AAAAAAAAAAc/bSfvkT4xjiw/s64/photo.jpg",
      "userId": "01268730178107877997"
     },
     "user_tz": 240
    },
    "id": "GI122M4b_sY5",
    "outputId": "f398d31f-b117-40e4-fae8-e5d000bbb2d0",
    "scrolled": true
   },
   "outputs": [
    {
     "name": "stdout",
     "output_type": "stream",
     "text": [
      "Copying gs://gatk-tutorials/workshop_2002/2-germline/ref/ref.dict...\n",
      "Copying gs://gatk-tutorials/workshop_2002/2-germline/ref/ref.fasta...           \n",
      "Copying gs://gatk-tutorials/workshop_2002/2-germline/ref/ref.fasta.fai...       \n",
      "/ [3 files][ 61.1 MiB/ 61.1 MiB]                                                \n",
      "Operation completed over 3 objects/61.1 MiB.                                     \n",
      "Copying gs://gatk-tutorials/workshop_2002/2-germline/trio.ped...\n",
      "- [1 files][  181.0 B/  181.0 B]                                                \n",
      "Operation completed over 1 objects/181.0 B.                                      \n",
      "Copying gs://gatk-tutorials/workshop_2002/2-germline/resources/af-only-gnomad.chr20subset.b37.vcf.gz...\n",
      "Copying gs://gatk-tutorials/workshop_2002/2-germline/resources/af-only-gnomad.chr20subset.b37.vcf.gz.tbi...\n",
      "Copying gs://gatk-tutorials/workshop_2002/2-germline/resources/dbsnp.vcf...     \n",
      "==> NOTE: You are downloading one or more large file(s), which would            \n",
      "run significantly faster if you enabled sliced object downloads. This\n",
      "feature is enabled by default but requires that compiled crcmod be\n",
      "installed (see \"gsutil help crcmod\").\n",
      "\n",
      "Copying gs://gatk-tutorials/workshop_2002/2-germline/resources/dbsnp.vcf.idx... \n",
      "| [4 files][230.4 MiB/230.4 MiB]   12.8 MiB/s                                   \n",
      "==> NOTE: You are performing a sequence of gsutil operations that may\n",
      "run significantly faster if you instead use gsutil -m cp ... Please\n",
      "see the -m section under \"gsutil help options\" for further information\n",
      "about when gsutil -m can be advantageous.\n",
      "\n",
      "Copying gs://gatk-tutorials/workshop_2002/2-germline/resources/motherGIAB.vcf.gz...\n",
      "Copying gs://gatk-tutorials/workshop_2002/2-germline/resources/motherGIAB.vcf.gz.tbi...\n",
      "Copying gs://gatk-tutorials/workshop_2002/2-germline/resources/motherGIABsnps.vcf.gz...\n",
      "Copying gs://gatk-tutorials/workshop_2002/2-germline/resources/motherGIABsnps.vcf.gz.tbi...\n",
      "- [8 files][235.2 MiB/235.2 MiB]  690.4 KiB/s                                   \n",
      "Operation completed over 8 objects/235.2 MiB.                                    \n",
      "Copying gs://gatk-tutorials/workshop_2002/2-germline/gvcfs/father.g.vcf.gz...\n",
      "Copying gs://gatk-tutorials/workshop_2002/2-germline/gvcfs/father.g.vcf.gz.tbi...\n",
      "Copying gs://gatk-tutorials/workshop_2002/2-germline/gvcfs/mother.g.vcf.gz...   \n",
      "Copying gs://gatk-tutorials/workshop_2002/2-germline/gvcfs/mother.g.vcf.gz.tbi...\n",
      "/ [4 files][  3.5 MiB/  3.5 MiB]                                                \n",
      "==> NOTE: You are performing a sequence of gsutil operations that may\n",
      "run significantly faster if you instead use gsutil -m cp ... Please\n",
      "see the -m section under \"gsutil help options\" for further information\n",
      "about when gsutil -m can be advantageous.\n",
      "\n",
      "Copying gs://gatk-tutorials/workshop_2002/2-germline/gvcfs/son.g.vcf.gz...\n",
      "Copying gs://gatk-tutorials/workshop_2002/2-germline/gvcfs/son.g.vcf.gz.tbi...  \n",
      "\\ [6 files][  4.5 MiB/  4.5 MiB]                                                \n",
      "Operation completed over 6 objects/4.5 MiB.                                      \n"
     ]
    }
   ],
   "source": [
    "! gsutil cp gs://gatk-tutorials/$WORKSHOP/2-germline/ref/* /home/jupyter/notebooks/2-germline-vd/ref\n",
    "! gsutil cp gs://gatk-tutorials/$WORKSHOP/2-germline/trio.ped /home/jupyter/notebooks/2-germline-vd/\n",
    "! gsutil cp gs://gatk-tutorials/$WORKSHOP/2-germline/resources/* /home/jupyter/notebooks/2-germline-vd/resources/\n",
    "! gsutil cp gs://gatk-tutorials/$WORKSHOP/2-germline/gvcfs/* /home/jupyter/notebooks/2-germline-vd/gvcfs/"
   ]
  },
  {
   "cell_type": "markdown",
   "metadata": {},
   "source": [
    "## Set up Integrative Genomics Viewer (IGV)\n",
    "We will be using IGV in this tutorial to view BAM and VCF files. In order to do so without downloading each individual file, we will connect IGV with our google account.\n",
    "- [Download IGV](https://software.broadinstitute.org/software/igv/download) to your local machine if you haven't already done so.\n",
    "- You may need to check the **\"Enable Google Access\"** box under the **view** > **preferences** menu.\n",
    "- If you don't want to use the desktop IGV, you can use a web-based version right in your Workspace's Data Tab, as described in [this article](https://support.terra.bio/hc/en-us/articles/360029654831). The table below lists some helpful file extensions for index files needed to view BAM and VCF files.\n",
    "\n",
    "|File Eztension|Index File Extension|\n",
    "|--------------|--------------------|\n",
    "|.bam|.bai|\n",
    "|.vcf|.vcf.idx|\n",
    "|.vcf.gz|.vcf.gz.tbi|"
   ]
  },
  {
   "cell_type": "markdown",
   "metadata": {
    "colab_type": "text",
    "id": "msIkdvNu_sY8"
   },
   "source": [
    "-----------------------------------------------------------------------------------------------------------"
   ]
  },
  {
   "cell_type": "markdown",
   "metadata": {
    "colab_type": "text",
    "id": "QNgEG2X2_sY8"
   },
   "source": [
    "# Call variants with HaplotypeCaller in default VCF mode\n",
    "In this first step we run HaplotypeCaller in its simplest form on a single sample to get familiar with its operation and to learn some useful tips and tricks.  \n",
    "\n",
    "For this command and further commands in this tutorial, we will be working with data from the CEUTrio. The mother (NA12878) is used for our first command and is the most sequenced individual in the world. As such, she makes for a great case study to demonstrate how variant calling works, because we can verify the results against a larger body of knowledge. We will also be working with a father (NA12877) and a son (NA12882) in later portions of this notebook.\n"
   ]
  },
  {
   "cell_type": "code",
   "execution_count": 5,
   "metadata": {
    "colab": {
     "base_uri": "https://localhost:8080/",
     "height": 961
    },
    "colab_type": "code",
    "executionInfo": {
     "elapsed": 28124,
     "status": "ok",
     "timestamp": 1560184177526,
     "user": {
      "displayName": "Adelaide Rhodes",
      "photoUrl": "https://lh6.googleusercontent.com/-btsjdXqDOaw/AAAAAAAAAAI/AAAAAAAAAAc/bSfvkT4xjiw/s64/photo.jpg",
      "userId": "01268730178107877997"
     },
     "user_tz": 240
    },
    "id": "x7UaC1SO_sY9",
    "outputId": "c7c1a89b-28c7-433b-a303-2002fb0dd6fa",
    "scrolled": true
   },
   "outputs": [
    {
     "name": "stdout",
     "output_type": "stream",
     "text": [
      "Using GATK jar /gatk/gatk-package-4.5.0.0-local.jar\n",
      "Running:\n",
      "    java -Dsamjdk.use_async_io_read_samtools=false -Dsamjdk.use_async_io_write_samtools=true -Dsamjdk.use_async_io_write_tribble=false -Dsamjdk.compression_level=2 -jar /gatk/gatk-package-4.5.0.0-local.jar HaplotypeCaller -R gs://gatk-tutorials/workshop_2002/2-germline/ref/ref.fasta -I gs://gatk-tutorials/workshop_2002/2-germline/bams/mother.bam -O /home/jupyter/notebooks/2-germline-vd/sandbox/motherHC.vcf -L 20:10,000,000-10,200,000\n",
      "03:11:24.324 INFO  NativeLibraryLoader - Loading libgkl_compression.so from jar:file:/gatk/gatk-package-4.5.0.0-local.jar!/com/intel/gkl/native/libgkl_compression.so\n",
      "03:11:24.591 INFO  HaplotypeCaller - ------------------------------------------------------------\n",
      "03:11:24.595 INFO  HaplotypeCaller - The Genome Analysis Toolkit (GATK) v4.5.0.0\n",
      "03:11:24.595 INFO  HaplotypeCaller - For support and documentation go to https://software.broadinstitute.org/gatk/\n",
      "03:11:24.595 INFO  HaplotypeCaller - Executing as root@6fffd5f5c26a on Linux v6.5.11-linuxkit amd64\n",
      "03:11:24.595 INFO  HaplotypeCaller - Java runtime: OpenJDK 64-Bit Server VM v17.0.9+9-Ubuntu-122.04\n",
      "03:11:24.596 INFO  HaplotypeCaller - Start Date/Time: January 19, 2024 at 3:11:24 AM GMT\n",
      "03:11:24.596 INFO  HaplotypeCaller - ------------------------------------------------------------\n",
      "03:11:24.596 INFO  HaplotypeCaller - ------------------------------------------------------------\n",
      "03:11:24.598 INFO  HaplotypeCaller - HTSJDK Version: 4.1.0\n",
      "03:11:24.598 INFO  HaplotypeCaller - Picard Version: 3.1.1\n",
      "03:11:24.598 INFO  HaplotypeCaller - Built for Spark Version: 3.5.0\n",
      "03:11:24.599 INFO  HaplotypeCaller - HTSJDK Defaults.COMPRESSION_LEVEL : 2\n",
      "03:11:24.599 INFO  HaplotypeCaller - HTSJDK Defaults.USE_ASYNC_IO_READ_FOR_SAMTOOLS : false\n",
      "03:11:24.599 INFO  HaplotypeCaller - HTSJDK Defaults.USE_ASYNC_IO_WRITE_FOR_SAMTOOLS : true\n",
      "03:11:24.599 INFO  HaplotypeCaller - HTSJDK Defaults.USE_ASYNC_IO_WRITE_FOR_TRIBBLE : false\n",
      "03:11:24.600 INFO  HaplotypeCaller - Deflater: IntelDeflater\n",
      "03:11:24.600 INFO  HaplotypeCaller - Inflater: IntelInflater\n",
      "03:11:24.601 INFO  HaplotypeCaller - GCS max retries/reopens: 20\n",
      "03:11:24.601 INFO  HaplotypeCaller - Requester pays: disabled\n",
      "03:11:24.602 INFO  HaplotypeCaller - Initializing engine\n",
      "03:11:48.083 INFO  IntervalArgumentCollection - Processing 200001 bp from intervals\n",
      "03:11:48.094 INFO  HaplotypeCaller - Done initializing engine\n",
      "03:12:00.333 INFO  NativeLibraryLoader - Loading libgkl_utils.so from jar:file:/gatk/gatk-package-4.5.0.0-local.jar!/com/intel/gkl/native/libgkl_utils.so\n",
      "03:12:00.349 INFO  SmithWatermanAligner - AVX accelerated SmithWaterman implementation is not supported, falling back to the Java implementation\n",
      "03:12:00.366 INFO  HaplotypeCallerEngine - Disabling physical phasing, which is supported only for reference-model confidence output\n",
      "03:12:00.392 INFO  PairHMM - OpenMP multi-threaded AVX-accelerated native PairHMM implementation is not supported\n",
      "03:12:00.392 WARN  PairHMM - ***WARNING: Machine does not have the AVX instruction set support needed for the accelerated AVX PairHmm. Falling back to the MUCH slower LOGLESS_CACHING implementation!\n",
      "03:12:00.433 INFO  ProgressMeter - Starting traversal\n",
      "03:12:00.436 INFO  ProgressMeter -        Current Locus  Elapsed Minutes     Regions Processed   Regions/Minute\n",
      "03:12:18.106 WARN  InbreedingCoeff - InbreedingCoeff will not be calculated at position 20:10000117 and possibly subsequent; at least 10 samples must have called genotypes\n",
      "03:12:18.811 INFO  ProgressMeter -          20:10000657              0.3                    10             32.7\n",
      "03:12:29.044 INFO  ProgressMeter -          20:10098395              0.5                   530           1111.7\n",
      "03:12:35.262 INFO  HaplotypeCaller - 351 read(s) filtered by: MappingQualityReadFilter \n",
      "0 read(s) filtered by: MappingQualityAvailableReadFilter \n",
      "0 read(s) filtered by: MappedReadFilter \n",
      "0 read(s) filtered by: NotSecondaryAlignmentReadFilter \n",
      "6866 read(s) filtered by: NotDuplicateReadFilter \n",
      "0 read(s) filtered by: PassesVendorQualityCheckReadFilter \n",
      "0 read(s) filtered by: NonZeroReferenceLengthAlignmentReadFilter \n",
      "0 read(s) filtered by: GoodCigarReadFilter \n",
      "0 read(s) filtered by: WellformedReadFilter \n",
      "7217 total reads filtered out of 53134 reads processed\n",
      "03:12:35.267 INFO  ProgressMeter -          20:10199356              0.6                  1042           1795.1\n",
      "03:12:35.268 INFO  ProgressMeter - Traversal complete. Processed 1042 total regions in 0.6 minutes.\n",
      "03:12:35.296 INFO  PairHMM - Total compute time in PairHMM computeLogLikelihoods() : 4.948332126\n",
      "03:12:35.298 INFO  SmithWatermanAligner - Total compute time in java Smith-Waterman : 1.66 sec\n",
      "03:12:35.304 INFO  HaplotypeCaller - Shutting down engine\n",
      "[January 19, 2024 at 3:12:35 AM GMT] org.broadinstitute.hellbender.tools.walkers.haplotypecaller.HaplotypeCaller done. Elapsed time: 1.18 minutes.\n",
      "Runtime.totalMemory()=343932928\n"
     ]
    }
   ],
   "source": [
    "! gatk HaplotypeCaller \\\n",
    "    -R gs://gatk-tutorials/$WORKSHOP/2-germline/ref/ref.fasta \\\n",
    "    -I gs://gatk-tutorials/$WORKSHOP/2-germline/bams/mother.bam \\\n",
    "    -O /home/jupyter/notebooks/2-germline-vd/sandbox/motherHC.vcf \\\n",
    "    -L 20:10,000,000-10,200,000"
   ]
  },
  {
   "cell_type": "code",
   "execution_count": 6,
   "metadata": {
    "colab": {},
    "colab_type": "code",
    "id": "VJif-5iE_sZA",
    "scrolled": true
   },
   "outputs": [
    {
     "name": "stdout",
     "output_type": "stream",
     "text": [
      "Copying file:///home/jupyter/notebooks/2-germline-vd/sandbox/motherHC.vcf [Content-Type=text/vcard]...\n",
      "Copying file:///home/jupyter/notebooks/2-germline-vd/sandbox/motherHC.vcf.idx [Content-Type=application/octet-stream]...\n",
      "/ [2 files][104.5 KiB/104.5 KiB]                                                \n",
      "Operation completed over 2 objects/104.5 KiB.                                    \n"
     ]
    }
   ],
   "source": [
    "# copy files from your notebook sandbox to your workspace bucket sandbox\n",
    "! gsutil cp /home/jupyter/notebooks/2-germline-vd/sandbox/* $BUCKET/sandbox"
   ]
  },
  {
   "cell_type": "markdown",
   "metadata": {
    "colab_type": "text",
    "id": "GbAbNmB0_sZD"
   },
   "source": [
    "Open IGV and <font color=red>set the genome to hg19</font>. It is important you do this first, as changing the genome later will require you to reopen all files you may have already loaded into the program. \n",
    "\n",
    "By clicking File -> Load from URL, load the input BAM (mother.bam) and output VCF (mother.vcf), both printed below, in IGV and enter the following coordinates into the text field at the top next to the reference and chromosome selectors: **20:10,002,294-10,002,623**."
   ]
  },
  {
   "cell_type": "code",
   "execution_count": 7,
   "metadata": {
    "colab": {},
    "colab_type": "code",
    "id": "CAgsSVon_sZD",
    "scrolled": true
   },
   "outputs": [
    {
     "name": "stdout",
     "output_type": "stream",
     "text": [
      "gs://gatk-tutorials/workshop_2002/2-germline/bams/mother.bam\n",
      "gs://fc-b426f92d-adf2-45bc-a714-69ee3db2ba38/sandbox/motherHC.vcf\n"
     ]
    }
   ],
   "source": [
    "# prints out the file paths you will need to open in IGV\n",
    "! echo gs://gatk-tutorials/$WORKSHOP/2-germline/bams/mother.bam\n",
    "! echo $BUCKET/sandbox/motherHC.vcf"
   ]
  },
  {
   "cell_type": "code",
   "execution_count": 8,
   "metadata": {},
   "outputs": [
    {
     "name": "stdout",
     "output_type": "stream",
     "text": [
      "gs://gatk-tutorials/workshop_2002/2-germline/bams/mother.bai\r\n"
     ]
    }
   ],
   "source": [
    "! gsutil ls gs://gatk-tutorials/$WORKSHOP/2-germline/bams/mother.bai"
   ]
  },
  {
   "cell_type": "markdown",
   "metadata": {
    "colab_type": "text",
    "id": "Hq4HXZDV_sZF"
   },
   "source": [
    "We see that HaplotypeCaller called a homozygous variant insertion of three T bases. How is this possible when so few reads seem to support an insertion at this position? When you encounter indel-related weirdness, turn on the display of soft-clips, which IGV turns off by default. Go to View > Preferences > Alignments and select “Show soft-clipped bases”.\n",
    "\n",
    "<img src=\"https://storage.googleapis.com/gatk-tutorials/images/2-germline/vd-image1-IGVDesktop.png\" alt=\"drawing\" width=\"60%\"/>\n",
    "\n",
    "With soft clip display turned on, the region lights up with mismatching bases. **For these reads, the aligner (BWA MEM in our case) found the penalty of soft-clipping mismatching bases less than the penalty of inserting bases or inserting a gap.**\n",
    "\n",
    "<img src=\"https://storage.googleapis.com/gatk-tutorials/images/2-germline/vd-image2-IGVDesktop.png\" alt=\"drawing\" width=\"100%\"/>"
   ]
  },
  {
   "cell_type": "markdown",
   "metadata": {},
   "source": [
    "<font color=green>**Tool Tip**</font>\n",
    "\n",
    "<img src=\"https://storage.googleapis.com/gatk-tutorials/images/2-germline/vd-image3-IGVDesktop.png\" alt=\"drawing\" width=\"25px\" align=left style=\"margin:20px 10px\">\n",
    "\n",
    "By default, IGV shows details of each read when you hover over them. To change this, click on the yellow box icon in the top bar and select `Show Details on Click`.\n",
    "\n"
   ]
  },
  {
   "cell_type": "markdown",
   "metadata": {
    "colab_type": "text",
    "id": "BBrmheMG_sZG"
   },
   "source": [
    "## View realigned reads and assembled haplotypes\n",
    "Let's take a peek under the hood of HaplotypeCaller. HaplotypeCaller has a parameter called `-bamout`, which allows you to ask for the realigned reads. **These realigned reads are what HaplotypeCaller uses to make its variant calls**, so you will be able to see if a realignment fixed the messy region in the original bam.\n",
    "\n",
    "Run the following command:"
   ]
  },
  {
   "cell_type": "code",
   "execution_count": 9,
   "metadata": {
    "colab": {},
    "colab_type": "code",
    "id": "7SKNby5J_sZH",
    "scrolled": true
   },
   "outputs": [
    {
     "name": "stdout",
     "output_type": "stream",
     "text": [
      "Using GATK jar /etc/gatk-4.3.0.0/gatk-package-4.3.0.0-local.jar\n",
      "Running:\n",
      "    java -Dsamjdk.use_async_io_read_samtools=false -Dsamjdk.use_async_io_write_samtools=true -Dsamjdk.use_async_io_write_tribble=false -Dsamjdk.compression_level=2 -jar /etc/gatk-4.3.0.0/gatk-package-4.3.0.0-local.jar HaplotypeCaller -R gs://gatk-tutorials/workshop_2002/2-germline/ref/ref.fasta -I gs://gatk-tutorials/workshop_2002/2-germline/bams/mother.bam -O /home/jupyter/notebooks/2-germline-vd/sandbox/motherHCdebug.vcf -bamout /home/jupyter/notebooks/2-germline-vd/sandbox/motherHCdebug.bam -L 20:10,002,000-10,003,000\n",
      "10:49:07.685 INFO  NativeLibraryLoader - Loading libgkl_compression.so from jar:file:/etc/gatk-4.3.0.0/gatk-package-4.3.0.0-local.jar!/com/intel/gkl/native/libgkl_compression.so\n",
      "10:49:07.872 INFO  HaplotypeCaller - ------------------------------------------------------------\n",
      "10:49:07.873 INFO  HaplotypeCaller - The Genome Analysis Toolkit (GATK) v4.3.0.0\n",
      "10:49:07.873 INFO  HaplotypeCaller - For support and documentation go to https://software.broadinstitute.org/gatk/\n",
      "10:49:07.873 INFO  HaplotypeCaller - Executing as jupyter@fbe403654369 on Linux v5.15.133+ amd64\n",
      "10:49:07.873 INFO  HaplotypeCaller - Java runtime: OpenJDK 64-Bit Server VM v11.0.20.1+1-post-Ubuntu-0ubuntu120.04\n",
      "10:49:07.874 INFO  HaplotypeCaller - Start Date/Time: January 18, 2024 at 10:49:07 AM UTC\n",
      "10:49:07.874 INFO  HaplotypeCaller - ------------------------------------------------------------\n",
      "10:49:07.874 INFO  HaplotypeCaller - ------------------------------------------------------------\n",
      "10:49:07.875 INFO  HaplotypeCaller - HTSJDK Version: 3.0.1\n",
      "10:49:07.875 INFO  HaplotypeCaller - Picard Version: 2.27.5\n",
      "10:49:07.875 INFO  HaplotypeCaller - Built for Spark Version: 2.4.5\n",
      "10:49:07.876 INFO  HaplotypeCaller - HTSJDK Defaults.COMPRESSION_LEVEL : 2\n",
      "10:49:07.876 INFO  HaplotypeCaller - HTSJDK Defaults.USE_ASYNC_IO_READ_FOR_SAMTOOLS : false\n",
      "10:49:07.876 INFO  HaplotypeCaller - HTSJDK Defaults.USE_ASYNC_IO_WRITE_FOR_SAMTOOLS : true\n",
      "10:49:07.876 INFO  HaplotypeCaller - HTSJDK Defaults.USE_ASYNC_IO_WRITE_FOR_TRIBBLE : false\n",
      "10:49:07.876 INFO  HaplotypeCaller - Deflater: IntelDeflater\n",
      "10:49:07.876 INFO  HaplotypeCaller - Inflater: IntelInflater\n",
      "10:49:07.876 INFO  HaplotypeCaller - GCS max retries/reopens: 20\n",
      "10:49:07.877 INFO  HaplotypeCaller - Requester pays: disabled\n",
      "10:49:07.877 INFO  HaplotypeCaller - Initializing engine\n",
      "10:49:10.433 INFO  IntervalArgumentCollection - Processing 1001 bp from intervals\n",
      "10:49:10.437 INFO  HaplotypeCaller - Done initializing engine\n",
      "10:49:11.492 INFO  HaplotypeCallerEngine - Disabling physical phasing, which is supported only for reference-model confidence output\n",
      "10:49:11.531 INFO  NativeLibraryLoader - Loading libgkl_utils.so from jar:file:/etc/gatk-4.3.0.0/gatk-package-4.3.0.0-local.jar!/com/intel/gkl/native/libgkl_utils.so\n",
      "10:49:11.533 INFO  NativeLibraryLoader - Loading libgkl_pairhmm_omp.so from jar:file:/etc/gatk-4.3.0.0/gatk-package-4.3.0.0-local.jar!/com/intel/gkl/native/libgkl_pairhmm_omp.so\n",
      "10:49:11.551 INFO  IntelPairHmm - Flush-to-zero (FTZ) is enabled when running PairHMM\n",
      "10:49:11.552 INFO  IntelPairHmm - Available threads: 4\n",
      "10:49:11.552 INFO  IntelPairHmm - Requested threads: 4\n",
      "10:49:11.552 INFO  PairHMM - Using the OpenMP multi-threaded AVX-accelerated native PairHMM implementation\n",
      "10:49:11.593 INFO  ProgressMeter - Starting traversal\n",
      "10:49:11.593 INFO  ProgressMeter -        Current Locus  Elapsed Minutes     Regions Processed   Regions/Minute\n",
      "10:49:13.508 WARN  InbreedingCoeff - InbreedingCoeff will not be calculated at position 20:10002058 and possibly subsequent; at least 10 samples must have called genotypes\n",
      "10:49:13.854 INFO  HaplotypeCaller - 4 read(s) filtered by: MappingQualityReadFilter \n",
      "0 read(s) filtered by: MappingQualityAvailableReadFilter \n",
      "0 read(s) filtered by: MappedReadFilter \n",
      "0 read(s) filtered by: NotSecondaryAlignmentReadFilter \n",
      "42 read(s) filtered by: NotDuplicateReadFilter \n",
      "0 read(s) filtered by: PassesVendorQualityCheckReadFilter \n",
      "0 read(s) filtered by: NonZeroReferenceLengthAlignmentReadFilter \n",
      "0 read(s) filtered by: GoodCigarReadFilter \n",
      "0 read(s) filtered by: WellformedReadFilter \n",
      "46 total reads filtered\n",
      "10:49:13.854 INFO  ProgressMeter -             unmapped              0.0                     8            212.3\n",
      "10:49:13.855 INFO  ProgressMeter - Traversal complete. Processed 8 total regions in 0.0 minutes.\n",
      "10:49:13.868 INFO  VectorLoglessPairHMM - Time spent in setup for JNI call : 0.0029815\n",
      "10:49:13.868 INFO  PairHMM - Total compute time in PairHMM computeLogLikelihoods() : 0.051009053000000006\n",
      "10:49:13.868 INFO  SmithWatermanAligner - Total compute time in java Smith-Waterman : 0.19 sec\n",
      "10:49:13.931 INFO  HaplotypeCaller - Shutting down engine\n",
      "[January 18, 2024 at 10:49:13 AM UTC] org.broadinstitute.hellbender.tools.walkers.haplotypecaller.HaplotypeCaller done. Elapsed time: 0.10 minutes.\n",
      "Runtime.totalMemory()=332398592\n"
     ]
    }
   ],
   "source": [
    "! gatk HaplotypeCaller \\\n",
    "    -R gs://gatk-tutorials/$WORKSHOP/2-germline/ref/ref.fasta \\\n",
    "    -I gs://gatk-tutorials/$WORKSHOP/2-germline/bams/mother.bam \\\n",
    "    -O /home/jupyter/notebooks/2-germline-vd/sandbox/motherHCdebug.vcf \\\n",
    "    -bamout /home/jupyter/notebooks/2-germline-vd/sandbox/motherHCdebug.bam \\\n",
    "    -L 20:10,002,000-10,003,000"
   ]
  },
  {
   "cell_type": "code",
   "execution_count": 11,
   "metadata": {
    "colab": {},
    "colab_type": "code",
    "id": "oF9WzYLA_sZI",
    "scrolled": true
   },
   "outputs": [
    {
     "name": "stdout",
     "output_type": "stream",
     "text": [
      "Copying file:///home/jupyter/notebooks/2-germline-vd/sandbox/motherHCdebug.bai [Content-Type=application/octet-stream]...\n",
      "Copying file:///home/jupyter/notebooks/2-germline-vd/sandbox/motherHCdebug.bam [Content-Type=application/octet-stream]...\n",
      "Copying file:///home/jupyter/notebooks/2-germline-vd/sandbox/motherHCdebug.vcf [Content-Type=text/vcard]...\n",
      "Copying file:///home/jupyter/notebooks/2-germline-vd/sandbox/motherHCdebug.vcf.idx [Content-Type=application/octet-stream]...\n",
      "/ [4 files][ 48.7 KiB/ 48.7 KiB]                                                \n",
      "==> NOTE: You are performing a sequence of gsutil operations that may\n",
      "run significantly faster if you instead use gsutil -m cp ... Please\n",
      "see the -m section under \"gsutil help options\" for further information\n",
      "about when gsutil -m can be advantageous.\n",
      "\n",
      "Copying file:///home/jupyter/notebooks/2-germline-vd/sandbox/motherHC.vcf [Content-Type=text/vcard]...\n",
      "Copying file:///home/jupyter/notebooks/2-germline-vd/sandbox/motherHC.vcf.idx [Content-Type=application/octet-stream]...\n",
      "/ [6 files][153.2 KiB/153.2 KiB]                                                \n",
      "Operation completed over 6 objects/153.2 KiB.                                    \n"
     ]
    }
   ],
   "source": [
    "# copy files from your notebook sandbox to your workspace bucket sandbox\n",
    "! gsutil cp /home/jupyter/notebooks/2-germline-vd/sandbox/* $BUCKET/sandbox"
   ]
  },
  {
   "cell_type": "markdown",
   "metadata": {
    "colab_type": "text",
    "id": "fdevgLdr_sZK"
   },
   "source": [
    "Load the output BAM (motherHCdebug.bam) in IGV, and switch to Collapsed view (right-click>Collapsed). You should still be zoomed in on the same coordinates (**20:10,002,294-10,002,623**), and have the mother.bam track loaded for comparison."
   ]
  },
  {
   "cell_type": "code",
   "execution_count": 12,
   "metadata": {
    "colab": {},
    "colab_type": "code",
    "id": "z8kZyItz_sZL",
    "scrolled": true
   },
   "outputs": [
    {
     "name": "stdout",
     "output_type": "stream",
     "text": [
      "gs://fc-b426f92d-adf2-45bc-a714-69ee3db2ba38/sandbox/motherHCdebug.bam\r\n"
     ]
    }
   ],
   "source": [
    "# prints out the file paths you will need to open in IGV\n",
    "! echo $BUCKET/sandbox/motherHCdebug.bam"
   ]
  },
  {
   "cell_type": "markdown",
   "metadata": {
    "colab_type": "text",
    "id": "SL6MS8SG_sZN"
   },
   "source": [
    "Since we are only interested in looking at that messy region, we gave the tool a narrowed interval with `-L 20:10,002,000-10,003,000`. This is why the reads seem to sharply cut off when you compare the original BAM with the realigned BAM.\n",
    "\n",
    "<img src=\"https://storage.googleapis.com/gatk-tutorials/images/2-germline/vd-image4-IGVDesktop.png\" alt=\"drawing\" width=\"100%\"/>"
   ]
  },
  {
   "cell_type": "markdown",
   "metadata": {
    "colab_type": "text",
    "id": "C-i0J6MT_sZN"
   },
   "source": [
    "After realignment by HaplotypeCaller (the bottom track), almost all the reads show the insertion, and the messy soft clips from the original bam are gone. **HaplotypeCaller will utilize soft-clipped sequences towards realignment**. Expand the reads in the output BAM (right-click>Expanded view), and you can see that all the insertions are in phase with the C/T SNP. \n",
    "\n",
    "This shows that HaplotypeCaller found a different alignment after performing its local graph assembly step. The reassembled region provided HaplotypeCaller with enough support to call the indel, which position-based callers like UnifiedGenotyper would have missed.\n",
    "\n",
    "<img src=\"https://storage.googleapis.com/gatk-tutorials/images/2-germline/vd-image5-IGVDesktop.png\" alt=\"drawing\" width=\"60%\"/>"
   ]
  },
  {
   "cell_type": "markdown",
   "metadata": {
    "colab_type": "text",
    "id": "mr_kAaSW_sZO"
   },
   "source": [
    "➤ Focus on the insertion locus. **How many different types of insertions do you see?** Which one did HaplotypeCaller call in the VCF? What do you think of this choice?\n",
    "\n",
    "There is more to a BAM than meets the eye--or at least, what you can see in this view of IGV. Right-click on the motherHCdebug.bam track to bring up the view options menu. **Select Color alignments by, and choose read group.** Your gray reads should now be colored similar to the screenshot below.\n",
    "\n",
    "<img src=\"https://storage.googleapis.com/gatk-tutorials/images/2-germline/vd-image6-IGVDesktop.png\" alt=\"drawing\" width=\"60%\"/>"
   ]
  },
  {
   "cell_type": "markdown",
   "metadata": {
    "colab_type": "text",
    "id": "HixROuj6_sZO"
   },
   "source": [
    "Some of the first reads, shown in **red at the top of the pile, are not real reads.** These represent artificial haplotypes that were constructed by HaplotypeCaller, and are tagged with a special read group identifier, **RG:Z:ArtificialHaplotypeRG** to differentiate them from actual reassembled reads. You can click on an artificial read to see this tag under Read Group. "
   ]
  },
  {
   "cell_type": "markdown",
   "metadata": {
    "colab_type": "text",
    "id": "IvCtLFG1_sZP"
   },
   "source": [
    "<img src=\"https://storage.googleapis.com/gatk-tutorials/images/2-germline/vd-image7-IGVDesktop.png\" alt=\"drawing\" width=\"40%\" align=left style=\"margin:0px 20px\"/> \n",
    "\n",
    "<br>\n",
    "➤ How are each of the three artificial haplotypes different from the others? \n",
    "\n",
    "Let's separate these artificial reads to the top of the track. Right click on a read, then select **Sort alignments by**, and choose **base**.\n",
    "\n",
    "If you click on the purple insertion bars, you can see what call they correspond to. There is a `TTT` insertion and a `TT` insertion. When we sort by base, it will push the reads with evidence for a `TTT` insertion up to the top."
   ]
  },
  {
   "cell_type": "markdown",
   "metadata": {
    "colab_type": "text",
    "id": "IvCtLFG1_sZP"
   },
   "source": [
    "\n",
    "<img src=\"https://storage.googleapis.com/gatk-tutorials/images/2-germline/vd-image8-IGVDesktop.png\" alt=\"drawing\" width=\"50%\" align=left style=\"margin:20px 20px\"/>\n",
    "\n",
    "Now we will color the reads differently. Right click on a read again and select **Color alignments by**, choose **tag**, and type in **HC**. HaplotypeCaller labels reassembled reads that have unequivocal support for a haplotype (based on likelihood calculations) with an HC tag value that matches the HC tag value of the corresponding haplotype. The gray color on some reads indicate that they could support one or more possible haplotypes.\n",
    "\n",
    "\n",
    "\n",
    "➤ Again, what do you think of HaplotypeCaller's choice to call the three-base insertion instead of the two-base insertion? Is there more evidence for one or the other?\n",
    "\n",
    "If you zoom out, you will also see the three active regions within the scope of the interval we provided. HaplotypeCaller considered twelve, three, and six putative haplotypes, respectively, for the regions, and performed local reassembly for each of the three regions. "
   ]
  },
  {
   "cell_type": "markdown",
   "metadata": {
    "colab_type": "text",
    "id": "4Jpw6WSt_sZQ"
   },
   "source": [
    "-----------------------------------------------------------------------------------------------------------"
   ]
  },
  {
   "cell_type": "markdown",
   "metadata": {
    "colab_type": "text",
    "id": "PJmwn4aY_sZR"
   },
   "source": [
    "# GVCF workflow"
   ]
  },
  {
   "cell_type": "markdown",
   "metadata": {
    "colab_type": "text",
    "id": "Iu6orTDv_sZR"
   },
   "source": [
    "## Run HaplotypeCaller on a single bam file in GVCF mode\n",
    "\n",
    "It is possible to genotype a multi-sample cohort simultaneously with HaplotypeCaller. However, this scales poorly. **For a scalable analysis, GATK offers the GVCF workflow**, which separates BAM-level variant calling from genotyping. In the GVCF workflow, HaplotypeCaller is run with the `-ERC GVCF` option on each individual BAM file and produces a GVCF, which adheres to VCF format specifications while giving information about the data at every genomic position. GenotypeGVCFs then genotypes the samples in a cohort via the given GVCFs.\n",
    "\n",
    "Run HaplotypeCaller in GVCF mode on the mother’s bam. This will produce a GVCF file that contains likelihoods for each possible genotype for the variant alleles, including a symbolic <NON_REF> allele. You'll see what this looks like soon."
   ]
  },
  {
   "cell_type": "code",
   "execution_count": 13,
   "metadata": {
    "colab": {},
    "colab_type": "code",
    "id": "T7kzv1sH_sZS",
    "scrolled": true
   },
   "outputs": [
    {
     "name": "stdout",
     "output_type": "stream",
     "text": [
      "Using GATK jar /etc/gatk-4.3.0.0/gatk-package-4.3.0.0-local.jar\n",
      "Running:\n",
      "    java -Dsamjdk.use_async_io_read_samtools=false -Dsamjdk.use_async_io_write_samtools=true -Dsamjdk.use_async_io_write_tribble=false -Dsamjdk.compression_level=2 -jar /etc/gatk-4.3.0.0/gatk-package-4.3.0.0-local.jar HaplotypeCaller -R gs://gatk-tutorials/workshop_2002/2-germline/ref/ref.fasta -I gs://gatk-tutorials/workshop_2002/2-germline/bams/mother.bam -O /home/jupyter/notebooks/2-germline-vd/sandbox/mother.g.vcf -ERC GVCF -L 20:10,000,000-10,200,000\n",
      "11:24:55.352 INFO  NativeLibraryLoader - Loading libgkl_compression.so from jar:file:/etc/gatk-4.3.0.0/gatk-package-4.3.0.0-local.jar!/com/intel/gkl/native/libgkl_compression.so\n",
      "11:24:55.518 INFO  HaplotypeCaller - ------------------------------------------------------------\n",
      "11:24:55.519 INFO  HaplotypeCaller - The Genome Analysis Toolkit (GATK) v4.3.0.0\n",
      "11:24:55.519 INFO  HaplotypeCaller - For support and documentation go to https://software.broadinstitute.org/gatk/\n",
      "11:24:55.520 INFO  HaplotypeCaller - Executing as jupyter@fbe403654369 on Linux v5.15.133+ amd64\n",
      "11:24:55.520 INFO  HaplotypeCaller - Java runtime: OpenJDK 64-Bit Server VM v11.0.20.1+1-post-Ubuntu-0ubuntu120.04\n",
      "11:24:55.520 INFO  HaplotypeCaller - Start Date/Time: January 18, 2024 at 11:24:55 AM UTC\n",
      "11:24:55.520 INFO  HaplotypeCaller - ------------------------------------------------------------\n",
      "11:24:55.520 INFO  HaplotypeCaller - ------------------------------------------------------------\n",
      "11:24:55.521 INFO  HaplotypeCaller - HTSJDK Version: 3.0.1\n",
      "11:24:55.522 INFO  HaplotypeCaller - Picard Version: 2.27.5\n",
      "11:24:55.522 INFO  HaplotypeCaller - Built for Spark Version: 2.4.5\n",
      "11:24:55.522 INFO  HaplotypeCaller - HTSJDK Defaults.COMPRESSION_LEVEL : 2\n",
      "11:24:55.522 INFO  HaplotypeCaller - HTSJDK Defaults.USE_ASYNC_IO_READ_FOR_SAMTOOLS : false\n",
      "11:24:55.522 INFO  HaplotypeCaller - HTSJDK Defaults.USE_ASYNC_IO_WRITE_FOR_SAMTOOLS : true\n",
      "11:24:55.522 INFO  HaplotypeCaller - HTSJDK Defaults.USE_ASYNC_IO_WRITE_FOR_TRIBBLE : false\n",
      "11:24:55.522 INFO  HaplotypeCaller - Deflater: IntelDeflater\n",
      "11:24:55.522 INFO  HaplotypeCaller - Inflater: IntelInflater\n",
      "11:24:55.523 INFO  HaplotypeCaller - GCS max retries/reopens: 20\n",
      "11:24:55.523 INFO  HaplotypeCaller - Requester pays: disabled\n",
      "11:24:55.523 INFO  HaplotypeCaller - Initializing engine\n",
      "11:24:58.084 INFO  IntervalArgumentCollection - Processing 200001 bp from intervals\n",
      "11:24:58.089 INFO  HaplotypeCaller - Done initializing engine\n",
      "11:24:58.092 INFO  HaplotypeCallerEngine - Tool is in reference confidence mode and the annotation, the following changes will be made to any specified annotations: 'StrandBiasBySample' will be enabled. 'ChromosomeCounts', 'FisherStrand', 'StrandOddsRatio' and 'QualByDepth' annotations have been disabled\n",
      "11:24:59.133 INFO  HaplotypeCallerEngine - Standard Emitting and Calling confidence set to -0.0 for reference-model confidence output\n",
      "11:24:59.133 INFO  HaplotypeCallerEngine - All sites annotated with PLs forced to true for reference-model confidence output\n",
      "11:24:59.152 INFO  NativeLibraryLoader - Loading libgkl_utils.so from jar:file:/etc/gatk-4.3.0.0/gatk-package-4.3.0.0-local.jar!/com/intel/gkl/native/libgkl_utils.so\n",
      "11:24:59.154 INFO  NativeLibraryLoader - Loading libgkl_pairhmm_omp.so from jar:file:/etc/gatk-4.3.0.0/gatk-package-4.3.0.0-local.jar!/com/intel/gkl/native/libgkl_pairhmm_omp.so\n",
      "11:24:59.171 INFO  IntelPairHmm - Flush-to-zero (FTZ) is enabled when running PairHMM\n",
      "11:24:59.172 INFO  IntelPairHmm - Available threads: 4\n",
      "11:24:59.172 INFO  IntelPairHmm - Requested threads: 4\n",
      "11:24:59.172 INFO  PairHMM - Using the OpenMP multi-threaded AVX-accelerated native PairHMM implementation\n",
      "11:24:59.236 INFO  ProgressMeter - Starting traversal\n",
      "11:24:59.236 INFO  ProgressMeter -        Current Locus  Elapsed Minutes     Regions Processed   Regions/Minute\n",
      "11:25:01.193 WARN  InbreedingCoeff - InbreedingCoeff will not be calculated at position 20:10000117 and possibly subsequent; at least 10 samples must have called genotypes\n",
      "11:25:09.270 INFO  ProgressMeter -          20:10031865              0.2                   200           1196.2\n",
      "11:25:19.373 INFO  ProgressMeter -          20:10115288              0.3                   640           1907.0\n",
      "11:25:24.646 INFO  HaplotypeCaller - 351 read(s) filtered by: MappingQualityReadFilter \n",
      "0 read(s) filtered by: MappingQualityAvailableReadFilter \n",
      "0 read(s) filtered by: MappedReadFilter \n",
      "0 read(s) filtered by: NotSecondaryAlignmentReadFilter \n",
      "6866 read(s) filtered by: NotDuplicateReadFilter \n",
      "0 read(s) filtered by: PassesVendorQualityCheckReadFilter \n",
      "0 read(s) filtered by: NonZeroReferenceLengthAlignmentReadFilter \n",
      "0 read(s) filtered by: GoodCigarReadFilter \n",
      "0 read(s) filtered by: WellformedReadFilter \n",
      "7217 total reads filtered\n",
      "11:25:24.647 INFO  ProgressMeter -          20:10199356              0.4                  1042           2460.5\n",
      "11:25:24.647 INFO  ProgressMeter - Traversal complete. Processed 1042 total regions in 0.4 minutes.\n",
      "11:25:24.658 INFO  VectorLoglessPairHMM - Time spent in setup for JNI call : 0.029360627\n",
      "11:25:24.658 INFO  PairHMM - Total compute time in PairHMM computeLogLikelihoods() : 3.0884548570000003\n",
      "11:25:24.658 INFO  SmithWatermanAligner - Total compute time in java Smith-Waterman : 3.74 sec\n",
      "11:25:24.659 INFO  HaplotypeCaller - Shutting down engine\n",
      "[January 18, 2024 at 11:25:24 AM UTC] org.broadinstitute.hellbender.tools.walkers.haplotypecaller.HaplotypeCaller done. Elapsed time: 0.49 minutes.\n",
      "Runtime.totalMemory()=396361728\n"
     ]
    }
   ],
   "source": [
    "! gatk HaplotypeCaller \\\n",
    "    -R gs://gatk-tutorials/$WORKSHOP/2-germline/ref/ref.fasta \\\n",
    "    -I gs://gatk-tutorials/$WORKSHOP/2-germline/bams/mother.bam \\\n",
    "    -O /home/jupyter/notebooks/2-germline-vd/sandbox/mother.g.vcf \\\n",
    "    -ERC GVCF \\\n",
    "    -L 20:10,000,000-10,200,000"
   ]
  },
  {
   "cell_type": "code",
   "execution_count": 14,
   "metadata": {
    "colab": {},
    "colab_type": "code",
    "id": "bRITcPXe_sZU",
    "scrolled": true
   },
   "outputs": [
    {
     "name": "stdout",
     "output_type": "stream",
     "text": [
      "Copying file:///home/jupyter/notebooks/2-germline-vd/sandbox/mother.g.vcf [Content-Type=text/vcard]...\n",
      "Copying file:///home/jupyter/notebooks/2-germline-vd/sandbox/mother.g.vcf.idx [Content-Type=application/octet-stream]...\n",
      "Copying file:///home/jupyter/notebooks/2-germline-vd/sandbox/motherHCdebug.bai [Content-Type=application/octet-stream]...\n",
      "Copying file:///home/jupyter/notebooks/2-germline-vd/sandbox/motherHCdebug.bam [Content-Type=application/octet-stream]...\n",
      "/ [4 files][  4.7 MiB/  4.7 MiB]                                                \n",
      "==> NOTE: You are performing a sequence of gsutil operations that may\n",
      "run significantly faster if you instead use gsutil -m cp ... Please\n",
      "see the -m section under \"gsutil help options\" for further information\n",
      "about when gsutil -m can be advantageous.\n",
      "\n",
      "Copying file:///home/jupyter/notebooks/2-germline-vd/sandbox/motherHCdebug.vcf [Content-Type=text/vcard]...\n",
      "Copying file:///home/jupyter/notebooks/2-germline-vd/sandbox/motherHCdebug.vcf.idx [Content-Type=application/octet-stream]...\n",
      "Copying file:///home/jupyter/notebooks/2-germline-vd/sandbox/motherHC.vcf [Content-Type=text/vcard]...\n",
      "Copying file:///home/jupyter/notebooks/2-germline-vd/sandbox/motherHC.vcf.idx [Content-Type=application/octet-stream]...\n",
      "- [8 files][  4.8 MiB/  4.8 MiB]                                                \n",
      "Operation completed over 8 objects/4.8 MiB.                                      \n"
     ]
    }
   ],
   "source": [
    "# copy files from your notebook sandbox to your workspace bucket sandbox\n",
    "! gsutil cp /home/jupyter/notebooks/2-germline-vd/sandbox/* $BUCKET/sandbox"
   ]
  },
  {
   "cell_type": "markdown",
   "metadata": {
    "colab_type": "text",
    "id": "5Ua1LiuB_sZW"
   },
   "source": [
    "**In the interest of time, we have supplied the other sample GVCFs in the bundle, but normally you would run them individually in the same way as the first.**\n",
    "\n",
    "Let's take a look at a GVCF in IGV. Start a new session to clear your IGV screen (File>New Session), then load the GVCF for each family member, printed with the command below. Zoom in on **20:10,002,371-10,002,546**."
   ]
  },
  {
   "cell_type": "code",
   "execution_count": 15,
   "metadata": {
    "colab": {},
    "colab_type": "code",
    "id": "8WZSnOie_sZX",
    "scrolled": true
   },
   "outputs": [
    {
     "name": "stdout",
     "output_type": "stream",
     "text": [
      "gs://gatk-tutorials/workshop_2002/2-germline/gvcfs/father.g.vcf.gz\n",
      "gs://fc-b426f92d-adf2-45bc-a714-69ee3db2ba38/sandbox/mother.g.vcf\n",
      "gs://gatk-tutorials/workshop_2002/2-germline/gvcfs/son.g.vcf.gz\n"
     ]
    }
   ],
   "source": [
    "# prints out the file paths you will need to open in IGV\n",
    "! echo gs://gatk-tutorials/$WORKSHOP/2-germline/gvcfs/father.g.vcf.gz\n",
    "! echo $BUCKET/sandbox/mother.g.vcf\n",
    "! echo gs://gatk-tutorials/$WORKSHOP/2-germline/gvcfs/son.g.vcf.gz"
   ]
  },
  {
   "cell_type": "markdown",
   "metadata": {
    "colab_type": "text",
    "id": "ou7rStjK_sZa"
   },
   "source": [
    "<img src=\"https://storage.googleapis.com/gatk-tutorials/images/2-germline/vd-image9-IGVDesktop.png\" alt=\"drawing\" width=\"100%\"/>"
   ]
  },
  {
   "cell_type": "markdown",
   "metadata": {
    "colab_type": "text",
    "id": "PYELQOcQ_sZb"
   },
   "source": [
    "Notice anything different from the VCF? Along with the colorful variant sites, you see many gray blocks in the GVCF representing reference confidence intervals. The gray blocks represent the blocks where the sample **appears** to be **homozygous reference or invariant**. The likelihoods are evaluated against an abstract non-reference allele and so these are referred to somewhat **counterintuitively as NON_REF** blocks of the GVCF. Each belongs to different **contiguous quality GVCFBlock** blocks. \n",
    "\n",
    "If we peek into the GVCF file using the command below, we actually see in the ALT column a **symbolic <NON_REF> allele, which represents non-called but possible non-reference alleles**. Using the likelihoods against the <NON_REF> allele we assign likelihoods to alleles that weren’t seen in the current sample during joint genotyping. Additionally, for NON_REF blocks, the **INFO field gives the end position** of the homozygous-reference block. The **FORMAT field gives Phred-scaled likelihoods (PL) for each potential genotype** given the alleles including the NON_REF allele.\n",
    "\n",
    "Later, the genotyping step will retain only sites that are confidently variant against the reference. \n"
   ]
  },
  {
   "cell_type": "code",
   "execution_count": 17,
   "metadata": {
    "scrolled": true
   },
   "outputs": [
    {
     "name": "stdout",
     "output_type": "stream",
     "text": [
      "##fileformat=VCFv4.2\r\n",
      "##ALT=<ID=NON_REF,Description=\"Represents any possible alternative allele not already represented at this location by REF and ALT\">\r\n",
      "##FILTER=<ID=LowQual,Description=\"Low quality\">\r\n",
      "##FORMAT=<ID=AD,Number=R,Type=Integer,Description=\"Allelic depths for the ref and alt alleles in the order listed\">\r\n",
      "##FORMAT=<ID=DP,Number=1,Type=Integer,Description=\"Approximate read depth (reads with MQ=255 or with bad mates are filtered)\">\r\n",
      "##FORMAT=<ID=GQ,Number=1,Type=Integer,Description=\"Genotype Quality\">\r\n",
      "##FORMAT=<ID=GT,Number=1,Type=String,Description=\"Genotype\">\r\n",
      "##FORMAT=<ID=MIN_DP,Number=1,Type=Integer,Description=\"Minimum DP observed within the GVCF block\">\r\n",
      "##FORMAT=<ID=PGT,Number=1,Type=String,Description=\"Physical phasing haplotype information, describing how the alternate alleles are phased in relation to one another; will always be heterozygous and is not intended to describe called alleles\">\r\n",
      "##FORMAT=<ID=PID,Number=1,Type=String,Description=\"Physical phasing ID information, where each unique ID within a given sample (but not across samples) connects records within a phasing group\">\r\n",
      "##FORMAT=<ID=PL,Number=G,Type=Integer,Description=\"Normalized, Phred-scaled likelihoods for genotypes as defined in the VCF specification\">\r\n",
      "##FORMAT=<ID=PS,Number=1,Type=Integer,Description=\"Phasing set (typically the position of the first variant in the set)\">\r\n",
      "##FORMAT=<ID=SB,Number=4,Type=Integer,Description=\"Per-sample component statistics which comprise the Fisher's Exact Test to detect strand bias.\">\r\n",
      "##GATKCommandLine=<ID=HaplotypeCaller,CommandLine=\"HaplotypeCaller --emit-ref-confidence GVCF --output /home/jupyter/notebooks/2-germline-vd/sandbox/mother.g.vcf --intervals 20:10,000,000-10,200,000 --input gs://gatk-tutorials/workshop_2002/2-germline/bams/mother.bam --reference gs://gatk-tutorials/workshop_2002/2-germline/ref/ref.fasta --use-posteriors-to-calculate-qual false --dont-use-dragstr-priors false --use-new-qual-calculator true --annotate-with-num-discovered-alleles false --heterozygosity 0.001 --indel-heterozygosity 1.25E-4 --heterozygosity-stdev 0.01 --standard-min-confidence-threshold-for-calling 30.0 --max-alternate-alleles 6 --max-genotype-count 1024 --sample-ploidy 2 --num-reference-samples-if-no-call 0 --genotype-assignment-method USE_PLS_TO_ASSIGN --contamination-fraction-to-filter 0.0 --output-mode EMIT_VARIANTS_ONLY --all-site-pls false --flow-likelihood-parallel-threads 0 --flow-likelihood-optimized-comp false --flow-use-t0-tag false --flow-probability-threshold 0.003 --flow-remove-non-single-base-pair-indels false --flow-remove-one-zero-probs false --flow-quantization-bins 121 --flow-fill-empty-bins-value 0.001 --flow-symmetric-indel-probs false --flow-report-insertion-or-deletion false --flow-disallow-probs-larger-than-call false --flow-lump-probs false --flow-retain-max-n-probs-base-format false --flow-probability-scaling-factor 10 --flow-order-cycle-length 4 --flow-number-of-uncertain-flows-to-clip 0 --flow-nucleotide-of-first-uncertain-flow T --keep-boundary-flows false --gvcf-gq-bands 1 --gvcf-gq-bands 2 --gvcf-gq-bands 3 --gvcf-gq-bands 4 --gvcf-gq-bands 5 --gvcf-gq-bands 6 --gvcf-gq-bands 7 --gvcf-gq-bands 8 --gvcf-gq-bands 9 --gvcf-gq-bands 10 --gvcf-gq-bands 11 --gvcf-gq-bands 12 --gvcf-gq-bands 13 --gvcf-gq-bands 14 --gvcf-gq-bands 15 --gvcf-gq-bands 16 --gvcf-gq-bands 17 --gvcf-gq-bands 18 --gvcf-gq-bands 19 --gvcf-gq-bands 20 --gvcf-gq-bands 21 --gvcf-gq-bands 22 --gvcf-gq-bands 23 --gvcf-gq-bands 24 --gvcf-gq-bands 25 --gvcf-gq-bands 26 --gvcf-gq-bands 27 --gvcf-gq-bands 28 --gvcf-gq-bands 29 --gvcf-gq-bands 30 --gvcf-gq-bands 31 --gvcf-gq-bands 32 --gvcf-gq-bands 33 --gvcf-gq-bands 34 --gvcf-gq-bands 35 --gvcf-gq-bands 36 --gvcf-gq-bands 37 --gvcf-gq-bands 38 --gvcf-gq-bands 39 --gvcf-gq-bands 40 --gvcf-gq-bands 41 --gvcf-gq-bands 42 --gvcf-gq-bands 43 --gvcf-gq-bands 44 --gvcf-gq-bands 45 --gvcf-gq-bands 46 --gvcf-gq-bands 47 --gvcf-gq-bands 48 --gvcf-gq-bands 49 --gvcf-gq-bands 50 --gvcf-gq-bands 51 --gvcf-gq-bands 52 --gvcf-gq-bands 53 --gvcf-gq-bands 54 --gvcf-gq-bands 55 --gvcf-gq-bands 56 --gvcf-gq-bands 57 --gvcf-gq-bands 58 --gvcf-gq-bands 59 --gvcf-gq-bands 60 --gvcf-gq-bands 70 --gvcf-gq-bands 80 --gvcf-gq-bands 90 --gvcf-gq-bands 99 --floor-blocks false --indel-size-to-eliminate-in-ref-model 10 --disable-optimizations false --dragen-mode false --flow-mode NONE --apply-bqd false --apply-frd false --disable-spanning-event-genotyping false --transform-dragen-mapping-quality false --mapping-quality-threshold-for-genotyping 20 --max-effective-depth-adjustment-for-frd 0 --just-determine-active-regions false --dont-genotype false --do-not-run-physical-phasing false --do-not-correct-overlapping-quality false --use-filtered-reads-for-annotations false --use-flow-aligner-for-stepwise-hc-filtering false --adaptive-pruning false --do-not-recover-dangling-branches false --recover-dangling-heads false --kmer-size 10 --kmer-size 25 --dont-increase-kmer-sizes-for-cycles false --allow-non-unique-kmers-in-ref false --num-pruning-samples 1 --min-dangling-branch-length 4 --recover-all-dangling-branches false --max-num-haplotypes-in-population 128 --min-pruning 2 --adaptive-pruning-initial-error-rate 0.001 --pruning-lod-threshold 2.302585092994046 --pruning-seeding-lod-threshold 9.210340371976184 --max-unpruned-variants 100 --linked-de-bruijn-graph false --disable-artificial-haplotype-recovery false --enable-legacy-graph-cycle-detection false --debug-assembly false --debug-graph-transformations false --capture-assembly-failure-bam false --num-matching-bases-in-dangling-end-to-recover -1 --error-correction-log-odds -Infinity --error-correct-reads false --kmer-length-for-read-error-correction 25 --min-observations-for-kmer-to-be-solid 20 --likelihood-calculation-engine PairHMM --base-quality-score-threshold 18 --dragstr-het-hom-ratio 2 --dont-use-dragstr-pair-hmm-scores false --pair-hmm-gap-continuation-penalty 10 --expected-mismatch-rate-for-read-disqualification 0.02 --pair-hmm-implementation FASTEST_AVAILABLE --pcr-indel-model CONSERVATIVE --phred-scaled-global-read-mismapping-rate 45 --disable-symmetric-hmm-normalizing false --disable-cap-base-qualities-to-map-quality false --enable-dynamic-read-disqualification-for-genotyping false --dynamic-read-disqualification-threshold 1.0 --native-pair-hmm-threads 4 --native-pair-hmm-use-double-precision false --flow-hmm-engine-min-indel-adjust 6 --flow-hmm-engine-flat-insertion-penatly 45 --flow-hmm-engine-flat-deletion-penatly 45 --pileup-detection false --pileup-detection-enable-indel-pileup-calling false --num-artificial-haplotypes-to-add-per-allele 5 --artifical-haplotype-filtering-kmer-size 10 --pileup-detection-snp-alt-threshold 0.1 --pileup-detection-indel-alt-threshold 0.5 --pileup-detection-absolute-alt-depth 0.0 --pileup-detection-snp-adjacent-to-assembled-indel-range 5 --pileup-detection-bad-read-tolerance 0.0 --pileup-detection-proper-pair-read-badness true --pileup-detection-edit-distance-read-badness-threshold 0.08 --pileup-detection-chimeric-read-badness true --pileup-detection-template-mean-badness-threshold 0.0 --pileup-detection-template-std-badness-threshold 0.0 --bam-writer-type CALLED_HAPLOTYPES --dont-use-soft-clipped-bases false --override-fragment-softclip-check false --min-base-quality-score 10 --smith-waterman JAVA --max-mnp-distance 0 --force-call-filtered-alleles false --reference-model-deletion-quality 30 --soft-clip-low-quality-ends false --allele-informative-reads-overlap-margin 2 --smith-waterman-dangling-end-match-value 25 --smith-waterman-dangling-end-mismatch-penalty -50 --smith-waterman-dangling-end-gap-open-penalty -110 --smith-waterman-dangling-end-gap-extend-penalty -6 --smith-waterman-haplotype-to-reference-match-value 200 --smith-waterman-haplotype-to-reference-mismatch-penalty -150 --smith-waterman-haplotype-to-reference-gap-open-penalty -260 --smith-waterman-haplotype-to-reference-gap-extend-penalty -11 --smith-waterman-read-to-haplotype-match-value 10 --smith-waterman-read-to-haplotype-mismatch-penalty -15 --smith-waterman-read-to-haplotype-gap-open-penalty -30 --smith-waterman-read-to-haplotype-gap-extend-penalty -5 --flow-assembly-collapse-hmer-size 0 --flow-assembly-collapse-partial-mode false --flow-filter-alleles false --flow-filter-alleles-qual-threshold 30.0 --flow-filter-alleles-sor-threshold 3.0 --flow-filter-lone-alleles false --flow-filter-alleles-debug-graphs false --min-assembly-region-size 50 --max-assembly-region-size 300 --active-probability-threshold 0.002 --max-prob-propagation-distance 50 --force-active false --assembly-region-padding 100 --padding-around-indels 75 --padding-around-snps 20 --padding-around-strs 75 --max-extension-into-assembly-region-padding-legacy 25 --max-reads-per-alignment-start 50 --enable-legacy-assembly-region-trimming false --interval-set-rule UNION --interval-padding 0 --interval-exclusion-padding 0 --interval-merging-rule ALL --read-validation-stringency SILENT --seconds-between-progress-updates 10.0 --disable-sequence-dictionary-validation false --create-output-bam-index true --create-output-bam-md5 false --create-output-variant-index true --create-output-variant-md5 false --max-variants-per-shard 0 --lenient false --add-output-sam-program-record true --add-output-vcf-command-line true --cloud-prefetch-buffer 40 --cloud-index-prefetch-buffer -1 --disable-bam-index-caching false --sites-only-vcf-output false --help false --version false --showHidden false --verbosity INFO --QUIET false --use-jdk-deflater false --use-jdk-inflater false --gcs-max-retries 20 --gcs-project-for-requester-pays  --disable-tool-default-read-filters false --minimum-mapping-quality 20 --disable-tool-default-annotations false --enable-all-annotations false --allow-old-rms-mapping-quality-annotation-data false\",Version=\"4.4.0.0\",Date=\"November 9, 2023 at 4:08:51 PM UTC\">\r\n",
      "##GVCFBlock0-1=minGQ=0(inclusive),maxGQ=1(exclusive)\r\n",
      "##GVCFBlock1-2=minGQ=1(inclusive),maxGQ=2(exclusive)\r\n",
      "##GVCFBlock10-11=minGQ=10(inclusive),maxGQ=11(exclusive)\r\n",
      "##GVCFBlock11-12=minGQ=11(inclusive),maxGQ=12(exclusive)\r\n",
      "##GVCFBlock12-13=minGQ=12(inclusive),maxGQ=13(exclusive)\r\n",
      "##GVCFBlock13-14=minGQ=13(inclusive),maxGQ=14(exclusive)\r\n",
      "##GVCFBlock14-15=minGQ=14(inclusive),maxGQ=15(exclusive)\r\n",
      "##GVCFBlock15-16=minGQ=15(inclusive),maxGQ=16(exclusive)\r\n",
      "##GVCFBlock16-17=minGQ=16(inclusive),maxGQ=17(exclusive)\r\n",
      "##GVCFBlock17-18=minGQ=17(inclusive),maxGQ=18(exclusive)\r\n",
      "##GVCFBlock18-19=minGQ=18(inclusive),maxGQ=19(exclusive)\r\n",
      "##GVCFBlock19-20=minGQ=19(inclusive),maxGQ=20(exclusive)\r\n",
      "##GVCFBlock2-3=minGQ=2(inclusive),maxGQ=3(exclusive)\r\n",
      "##GVCFBlock20-21=minGQ=20(inclusive),maxGQ=21(exclusive)\r\n",
      "##GVCFBlock21-22=minGQ=21(inclusive),maxGQ=22(exclusive)\r\n",
      "##GVCFBlock22-23=minGQ=22(inclusive),maxGQ=23(exclusive)\r\n",
      "##GVCFBlock23-24=minGQ=23(inclusive),maxGQ=24(exclusive)\r\n",
      "##GVCFBlock24-25=minGQ=24(inclusive),maxGQ=25(exclusive)\r\n",
      "##GVCFBlock25-26=minGQ=25(inclusive),maxGQ=26(exclusive)\r\n",
      "##GVCFBlock26-27=minGQ=26(inclusive),maxGQ=27(exclusive)\r\n",
      "##GVCFBlock27-28=minGQ=27(inclusive),maxGQ=28(exclusive)\r\n",
      "##GVCFBlock28-29=minGQ=28(inclusive),maxGQ=29(exclusive)\r\n",
      "##GVCFBlock29-30=minGQ=29(inclusive),maxGQ=30(exclusive)\r\n",
      "##GVCFBlock3-4=minGQ=3(inclusive),maxGQ=4(exclusive)\r\n",
      "##GVCFBlock30-31=minGQ=30(inclusive),maxGQ=31(exclusive)\r\n",
      "##GVCFBlock31-32=minGQ=31(inclusive),maxGQ=32(exclusive)\r\n",
      "##GVCFBlock32-33=minGQ=32(inclusive),maxGQ=33(exclusive)\r\n",
      "##GVCFBlock33-34=minGQ=33(inclusive),maxGQ=34(exclusive)\r\n",
      "##GVCFBlock34-35=minGQ=34(inclusive),maxGQ=35(exclusive)\r\n",
      "##GVCFBlock35-36=minGQ=35(inclusive),maxGQ=36(exclusive)\r\n",
      "##GVCFBlock36-37=minGQ=36(inclusive),maxGQ=37(exclusive)\r\n",
      "##GVCFBlock37-38=minGQ=37(inclusive),maxGQ=38(exclusive)\r\n",
      "##GVCFBlock38-39=minGQ=38(inclusive),maxGQ=39(exclusive)\r\n",
      "##GVCFBlock39-40=minGQ=39(inclusive),maxGQ=40(exclusive)\r\n",
      "##GVCFBlock4-5=minGQ=4(inclusive),maxGQ=5(exclusive)\r\n",
      "##GVCFBlock40-41=minGQ=40(inclusive),maxGQ=41(exclusive)\r\n",
      "##GVCFBlock41-42=minGQ=41(inclusive),maxGQ=42(exclusive)\r\n",
      "##GVCFBlock42-43=minGQ=42(inclusive),maxGQ=43(exclusive)\r\n",
      "##GVCFBlock43-44=minGQ=43(inclusive),maxGQ=44(exclusive)\r\n",
      "##GVCFBlock44-45=minGQ=44(inclusive),maxGQ=45(exclusive)\r\n",
      "##GVCFBlock45-46=minGQ=45(inclusive),maxGQ=46(exclusive)\r\n",
      "##GVCFBlock46-47=minGQ=46(inclusive),maxGQ=47(exclusive)\r\n",
      "##GVCFBlock47-48=minGQ=47(inclusive),maxGQ=48(exclusive)\r\n",
      "##GVCFBlock48-49=minGQ=48(inclusive),maxGQ=49(exclusive)\r\n",
      "##GVCFBlock49-50=minGQ=49(inclusive),maxGQ=50(exclusive)\r\n",
      "##GVCFBlock5-6=minGQ=5(inclusive),maxGQ=6(exclusive)\r\n",
      "##GVCFBlock50-51=minGQ=50(inclusive),maxGQ=51(exclusive)\r\n",
      "##GVCFBlock51-52=minGQ=51(inclusive),maxGQ=52(exclusive)\r\n",
      "##GVCFBlock52-53=minGQ=52(inclusive),maxGQ=53(exclusive)\r\n",
      "##GVCFBlock53-54=minGQ=53(inclusive),maxGQ=54(exclusive)\r\n",
      "##GVCFBlock54-55=minGQ=54(inclusive),maxGQ=55(exclusive)\r\n",
      "##GVCFBlock55-56=minGQ=55(inclusive),maxGQ=56(exclusive)\r\n",
      "##GVCFBlock56-57=minGQ=56(inclusive),maxGQ=57(exclusive)\r\n",
      "##GVCFBlock57-58=minGQ=57(inclusive),maxGQ=58(exclusive)\r\n",
      "##GVCFBlock58-59=minGQ=58(inclusive),maxGQ=59(exclusive)\r\n",
      "##GVCFBlock59-60=minGQ=59(inclusive),maxGQ=60(exclusive)\r\n",
      "##GVCFBlock6-7=minGQ=6(inclusive),maxGQ=7(exclusive)\r\n",
      "##GVCFBlock60-70=minGQ=60(inclusive),maxGQ=70(exclusive)\r\n",
      "##GVCFBlock7-8=minGQ=7(inclusive),maxGQ=8(exclusive)\r\n",
      "##GVCFBlock70-80=minGQ=70(inclusive),maxGQ=80(exclusive)\r\n",
      "##GVCFBlock8-9=minGQ=8(inclusive),maxGQ=9(exclusive)\r\n",
      "##GVCFBlock80-90=minGQ=80(inclusive),maxGQ=90(exclusive)\r\n",
      "##GVCFBlock9-10=minGQ=9(inclusive),maxGQ=10(exclusive)\r\n",
      "##GVCFBlock90-99=minGQ=90(inclusive),maxGQ=99(exclusive)\r\n",
      "##GVCFBlock99-100=minGQ=99(inclusive),maxGQ=100(exclusive)\r\n",
      "##INFO=<ID=BaseQRankSum,Number=1,Type=Float,Description=\"Z-score from Wilcoxon rank sum test of Alt Vs. Ref base qualities\">\r\n",
      "##INFO=<ID=DP,Number=1,Type=Integer,Description=\"Approximate read depth; some reads may have been filtered\">\r\n",
      "##INFO=<ID=END,Number=1,Type=Integer,Description=\"Stop position of the interval\">\r\n",
      "##INFO=<ID=ExcessHet,Number=1,Type=Float,Description=\"Phred-scaled p-value for exact test of excess heterozygosity\">\r\n",
      "##INFO=<ID=InbreedingCoeff,Number=1,Type=Float,Description=\"Inbreeding coefficient as estimated from the genotype likelihoods per-sample when compared against the Hardy-Weinberg expectation\">\r\n",
      "##INFO=<ID=MLEAC,Number=A,Type=Integer,Description=\"Maximum likelihood expectation (MLE) for the allele counts (not necessarily the same as the AC), for each ALT allele, in the same order as listed\">\r\n",
      "##INFO=<ID=MLEAF,Number=A,Type=Float,Description=\"Maximum likelihood expectation (MLE) for the allele frequency (not necessarily the same as the AF), for each ALT allele, in the same order as listed\">\r\n",
      "##INFO=<ID=MQRankSum,Number=1,Type=Float,Description=\"Z-score From Wilcoxon rank sum test of Alt vs. Ref read mapping qualities\">\r\n",
      "##INFO=<ID=RAW_MQandDP,Number=2,Type=Integer,Description=\"Raw data (sum of squared MQ and total depth) for improved RMS Mapping Quality calculation. Incompatible with deprecated RAW_MQ formulation.\">\r\n",
      "##INFO=<ID=ReadPosRankSum,Number=1,Type=Float,Description=\"Z-score from Wilcoxon rank sum test of Alt vs. Ref read position bias\">\r\n",
      "##contig=<ID=20,length=63025520,assembly=GRCh37>\r\n",
      "##source=HaplotypeCaller\r\n",
      "#CHROM\tPOS\tID\tREF\tALT\tQUAL\tFILTER\tINFO\tFORMAT\tNA12878\r\n",
      "20\t10000000\t.\tT\t<NON_REF>\t.\t.\tEND=10000008\tGT:DP:GQ:MIN_DP:PL\t0/0:16:48:16:0,48,497\r\n",
      "20\t10000009\t.\tA\t<NON_REF>\t.\t.\tEND=10000009\tGT:DP:GQ:MIN_DP:PL\t0/0:16:32:16:0,32,485\r\n",
      "20\t10000010\t.\tC\t<NON_REF>\t.\t.\tEND=10000017\tGT:DP:GQ:MIN_DP:PL\t0/0:16:48:16:0,48,472\r\n",
      "20\t10000018\t.\tT\t<NON_REF>\t.\t.\tEND=10000022\tGT:DP:GQ:MIN_DP:PL\t0/0:16:45:16:0,45,675\r\n",
      "20\t10000023\t.\tA\t<NON_REF>\t.\t.\tEND=10000026\tGT:DP:GQ:MIN_DP:PL\t0/0:17:48:17:0,48,720\r\n",
      "20\t10000027\t.\tT\t<NON_REF>\t.\t.\tEND=10000027\tGT:DP:GQ:MIN_DP:PL\t0/0:18:51:18:0,51,765\r\n",
      "20\t10000028\t.\tT\t<NON_REF>\t.\t.\tEND=10000031\tGT:DP:GQ:MIN_DP:PL\t0/0:17:48:17:0,48,720\r\n",
      "20\t10000032\t.\tC\t<NON_REF>\t.\t.\tEND=10000032\tGT:DP:GQ:MIN_DP:PL\t0/0:17:34:17:0,34,448\r\n"
     ]
    }
   ],
   "source": [
    "!head -n100 /home/jupyter/notebooks/2-germline-vd/sandbox/mother.g.vcf"
   ]
  },
  {
   "cell_type": "markdown",
   "metadata": {
    "colab_type": "text",
    "id": "0oFkVkw1_sZb"
   },
   "source": [
    "## Consolidate GVCFs using GenomicsDBImport\n",
    "For the next step, we need to consolidate the GVCFs into a GenomicsDB datastore. That might sound complicated but it's actually very straightforward."
   ]
  },
  {
   "cell_type": "code",
   "execution_count": 18,
   "metadata": {
    "colab": {},
    "colab_type": "code",
    "id": "PHuxE_XU_sZc",
    "scrolled": true
   },
   "outputs": [],
   "source": [
    "! rm -rf /home/jupyter/notebooks/2-germline-vd/sandbox/trio"
   ]
  },
  {
   "cell_type": "code",
   "execution_count": 16,
   "metadata": {
    "colab": {},
    "colab_type": "code",
    "id": "lAeh72dj_sZe",
    "scrolled": true
   },
   "outputs": [
    {
     "name": "stdout",
     "output_type": "stream",
     "text": [
      "Using GATK jar /etc/gatk-4.3.0.0/gatk-package-4.3.0.0-local.jar\n",
      "Running:\n",
      "    java -Dsamjdk.use_async_io_read_samtools=false -Dsamjdk.use_async_io_write_samtools=true -Dsamjdk.use_async_io_write_tribble=false -Dsamjdk.compression_level=2 -jar /etc/gatk-4.3.0.0/gatk-package-4.3.0.0-local.jar GenomicsDBImport -V gs://gatk-tutorials/workshop_2002/2-germline/gvcfs/mother.g.vcf.gz -V gs://gatk-tutorials/workshop_2002/2-germline/gvcfs/father.g.vcf.gz -V gs://gatk-tutorials/workshop_2002/2-germline/gvcfs/son.g.vcf.gz --genomicsdb-workspace-path /home/jupyter/notebooks/2-germline-vd/sandbox/trio --intervals 20:10,000,000-10,200,000\n",
      "11:30:49.015 INFO  NativeLibraryLoader - Loading libgkl_compression.so from jar:file:/etc/gatk-4.3.0.0/gatk-package-4.3.0.0-local.jar!/com/intel/gkl/native/libgkl_compression.so\n",
      "11:30:49.216 INFO  GenomicsDBImport - ------------------------------------------------------------\n",
      "11:30:49.217 INFO  GenomicsDBImport - The Genome Analysis Toolkit (GATK) v4.3.0.0\n",
      "11:30:49.217 INFO  GenomicsDBImport - For support and documentation go to https://software.broadinstitute.org/gatk/\n",
      "11:30:49.217 INFO  GenomicsDBImport - Executing as jupyter@fbe403654369 on Linux v5.15.133+ amd64\n",
      "11:30:49.217 INFO  GenomicsDBImport - Java runtime: OpenJDK 64-Bit Server VM v11.0.20.1+1-post-Ubuntu-0ubuntu120.04\n",
      "11:30:49.217 INFO  GenomicsDBImport - Start Date/Time: January 18, 2024 at 11:30:48 AM UTC\n",
      "11:30:49.218 INFO  GenomicsDBImport - ------------------------------------------------------------\n",
      "11:30:49.218 INFO  GenomicsDBImport - ------------------------------------------------------------\n",
      "11:30:49.219 INFO  GenomicsDBImport - HTSJDK Version: 3.0.1\n",
      "11:30:49.219 INFO  GenomicsDBImport - Picard Version: 2.27.5\n",
      "11:30:49.219 INFO  GenomicsDBImport - Built for Spark Version: 2.4.5\n",
      "11:30:49.219 INFO  GenomicsDBImport - HTSJDK Defaults.COMPRESSION_LEVEL : 2\n",
      "11:30:49.219 INFO  GenomicsDBImport - HTSJDK Defaults.USE_ASYNC_IO_READ_FOR_SAMTOOLS : false\n",
      "11:30:49.219 INFO  GenomicsDBImport - HTSJDK Defaults.USE_ASYNC_IO_WRITE_FOR_SAMTOOLS : true\n",
      "11:30:49.220 INFO  GenomicsDBImport - HTSJDK Defaults.USE_ASYNC_IO_WRITE_FOR_TRIBBLE : false\n",
      "11:30:49.220 INFO  GenomicsDBImport - Deflater: IntelDeflater\n",
      "11:30:49.220 INFO  GenomicsDBImport - Inflater: IntelInflater\n",
      "11:30:49.220 INFO  GenomicsDBImport - GCS max retries/reopens: 20\n",
      "11:30:49.220 INFO  GenomicsDBImport - Requester pays: disabled\n",
      "11:30:49.220 INFO  GenomicsDBImport - Initializing engine\n",
      "11:30:51.169 INFO  IntervalArgumentCollection - Processing 200001 bp from intervals\n",
      "11:30:51.171 INFO  GenomicsDBImport - Done initializing engine\n",
      "11:30:51.878 INFO  GenomicsDBLibLoader - GenomicsDB native library version : 1.4.3-6069e4a\n",
      "11:30:51.878 INFO  GenomicsDBImport - Vid Map JSON file will be written to /home/jupyter/notebooks/2-germline-vd/sandbox/trio/vidmap.json\n",
      "11:30:51.878 INFO  GenomicsDBImport - Callset Map JSON file will be written to /home/jupyter/notebooks/2-germline-vd/sandbox/trio/callset.json\n",
      "11:30:51.879 INFO  GenomicsDBImport - Complete VCF Header will be written to /home/jupyter/notebooks/2-germline-vd/sandbox/trio/vcfheader.vcf\n",
      "11:30:51.879 INFO  GenomicsDBImport - Importing to workspace - /home/jupyter/notebooks/2-germline-vd/sandbox/trio\n",
      "11:30:52.791 INFO  GenomicsDBImport - Importing batch 1 with 3 samples\n",
      "11:30:57.357 INFO  GenomicsDBImport - Done importing batch 1/1\n",
      "11:30:57.359 INFO  GenomicsDBImport - Import completed!\n",
      "11:30:57.359 INFO  GenomicsDBImport - Shutting down engine\n",
      "[January 18, 2024 at 11:30:57 AM UTC] org.broadinstitute.hellbender.tools.genomicsdb.GenomicsDBImport done. Elapsed time: 0.14 minutes.\n",
      "Runtime.totalMemory()=329252864\n",
      "Tool returned:\n",
      "true\n"
     ]
    }
   ],
   "source": [
    "! gatk GenomicsDBImport \\\n",
    "    -V gs://gatk-tutorials/$WORKSHOP/2-germline/gvcfs/mother.g.vcf.gz \\\n",
    "    -V gs://gatk-tutorials/$WORKSHOP/2-germline/gvcfs/father.g.vcf.gz \\\n",
    "    -V gs://gatk-tutorials/$WORKSHOP/2-germline/gvcfs/son.g.vcf.gz \\\n",
    "    --genomicsdb-workspace-path /home/jupyter/notebooks/2-germline-vd/sandbox/trio \\\n",
    "    --intervals 20:10,000,000-10,200,000"
   ]
  },
  {
   "cell_type": "markdown",
   "metadata": {
    "colab_type": "text",
    "id": "z70HWc0o_sZf"
   },
   "source": [
    "For those who cannot use GenomicDBImport, the alternative is to consolidate GVCFs with CombineGVCFs. Keep in mind though that the GenomicsDB intermediate allows you to scale analyses to large cohort sizes efficiently, and to add data incremently (which is not possible in CombineGVCFs). **Because it's not trivial to examine the data within the database, we will extract the trio's combined data from the GenomicsDB database using SelectVariants.**"
   ]
  },
  {
   "cell_type": "code",
   "execution_count": 17,
   "metadata": {
    "colab": {},
    "colab_type": "code",
    "id": "Ue3yPP-J_sZg",
    "scrolled": true
   },
   "outputs": [],
   "source": [
    "# Create a soft link to sandbox.\n",
    "! rm -f sandbox\n",
    "! ln -s /home/jupyter/notebooks/2-germline-vd/sandbox/ sandbox"
   ]
  },
  {
   "cell_type": "code",
   "execution_count": 18,
   "metadata": {
    "colab": {},
    "colab_type": "code",
    "id": "T8vs84Co_sZi",
    "scrolled": true
   },
   "outputs": [
    {
     "name": "stdout",
     "output_type": "stream",
     "text": [
      "Using GATK jar /etc/gatk-4.3.0.0/gatk-package-4.3.0.0-local.jar\n",
      "Running:\n",
      "    java -Dsamjdk.use_async_io_read_samtools=false -Dsamjdk.use_async_io_write_samtools=true -Dsamjdk.use_async_io_write_tribble=false -Dsamjdk.compression_level=2 -jar /etc/gatk-4.3.0.0/gatk-package-4.3.0.0-local.jar SelectVariants -R /home/jupyter/notebooks/2-germline-vd/ref/ref.fasta -V gendb://sandbox/trio -O /home/jupyter/notebooks/2-germline-vd/sandbox/trio_selectvariants.g.vcf\n",
      "11:33:09.870 INFO  NativeLibraryLoader - Loading libgkl_compression.so from jar:file:/etc/gatk-4.3.0.0/gatk-package-4.3.0.0-local.jar!/com/intel/gkl/native/libgkl_compression.so\n",
      "11:33:10.045 INFO  SelectVariants - ------------------------------------------------------------\n",
      "11:33:10.045 INFO  SelectVariants - The Genome Analysis Toolkit (GATK) v4.3.0.0\n",
      "11:33:10.046 INFO  SelectVariants - For support and documentation go to https://software.broadinstitute.org/gatk/\n",
      "11:33:10.046 INFO  SelectVariants - Executing as jupyter@fbe403654369 on Linux v5.15.133+ amd64\n",
      "11:33:10.046 INFO  SelectVariants - Java runtime: OpenJDK 64-Bit Server VM v11.0.20.1+1-post-Ubuntu-0ubuntu120.04\n",
      "11:33:10.046 INFO  SelectVariants - Start Date/Time: January 18, 2024 at 11:33:09 AM UTC\n",
      "11:33:10.047 INFO  SelectVariants - ------------------------------------------------------------\n",
      "11:33:10.047 INFO  SelectVariants - ------------------------------------------------------------\n",
      "11:33:10.048 INFO  SelectVariants - HTSJDK Version: 3.0.1\n",
      "11:33:10.048 INFO  SelectVariants - Picard Version: 2.27.5\n",
      "11:33:10.048 INFO  SelectVariants - Built for Spark Version: 2.4.5\n",
      "11:33:10.048 INFO  SelectVariants - HTSJDK Defaults.COMPRESSION_LEVEL : 2\n",
      "11:33:10.049 INFO  SelectVariants - HTSJDK Defaults.USE_ASYNC_IO_READ_FOR_SAMTOOLS : false\n",
      "11:33:10.049 INFO  SelectVariants - HTSJDK Defaults.USE_ASYNC_IO_WRITE_FOR_SAMTOOLS : true\n",
      "11:33:10.049 INFO  SelectVariants - HTSJDK Defaults.USE_ASYNC_IO_WRITE_FOR_TRIBBLE : false\n",
      "11:33:10.049 INFO  SelectVariants - Deflater: IntelDeflater\n",
      "11:33:10.049 INFO  SelectVariants - Inflater: IntelInflater\n",
      "11:33:10.049 INFO  SelectVariants - GCS max retries/reopens: 20\n",
      "11:33:10.050 INFO  SelectVariants - Requester pays: disabled\n",
      "11:33:10.050 INFO  SelectVariants - Initializing engine\n",
      "11:33:10.632 INFO  GenomicsDBLibLoader - GenomicsDB native library version : 1.4.3-6069e4a\n",
      "11:33:10.686 info  NativeGenomicsDB - pid=1934 tid=1935 No valid combination operation found for INFO field DS  - the field will NOT be part of INFO fields in the generated VCF records\n",
      "11:33:10.686 info  NativeGenomicsDB - pid=1934 tid=1935 No valid combination operation found for INFO field InbreedingCoeff  - the field will NOT be part of INFO fields in the generated VCF records\n",
      "11:33:10.686 info  NativeGenomicsDB - pid=1934 tid=1935 No valid combination operation found for INFO field MLEAC  - the field will NOT be part of INFO fields in the generated VCF records\n",
      "11:33:10.686 info  NativeGenomicsDB - pid=1934 tid=1935 No valid combination operation found for INFO field MLEAF  - the field will NOT be part of INFO fields in the generated VCF records\n",
      "11:33:10.788 INFO  SelectVariants - Done initializing engine\n",
      "11:33:10.845 INFO  ProgressMeter - Starting traversal\n",
      "11:33:10.845 INFO  ProgressMeter -        Current Locus  Elapsed Minutes    Variants Processed  Variants/Minute\n",
      "GENOMICSDB_TIMER,GenomicsDB iterator next() timer,Wall-clock time(s),2.0907817109999898,Cpu time(s),2.029265469999987\n",
      "11:33:14.867 INFO  ProgressMeter -          20:10199892              0.1                121067        1806071.6\n",
      "11:33:14.868 INFO  ProgressMeter - Traversal complete. Processed 121067 total variants in 0.1 minutes.\n",
      "11:33:14.879 INFO  SelectVariants - Shutting down engine\n",
      "[January 18, 2024 at 11:33:14 AM UTC] org.broadinstitute.hellbender.tools.walkers.variantutils.SelectVariants done. Elapsed time: 0.08 minutes.\n",
      "Runtime.totalMemory()=327155712\n"
     ]
    }
   ],
   "source": [
    "! gatk SelectVariants \\\n",
    "    -R /home/jupyter/notebooks/2-germline-vd/ref/ref.fasta \\\n",
    "    -V gendb://sandbox/trio \\\n",
    "    -O /home/jupyter/notebooks/2-germline-vd/sandbox/trio_selectvariants.g.vcf"
   ]
  },
  {
   "cell_type": "markdown",
   "metadata": {
    "colab_type": "text",
    "id": "lnkBLr0g_sZm"
   },
   "source": [
    "➤ Take a look inside the combined GVCF. How many samples are represented? What is going on with the genotype field (GT)? What does this genotype notation mean?"
   ]
  },
  {
   "cell_type": "code",
   "execution_count": 19,
   "metadata": {
    "colab": {},
    "colab_type": "code",
    "id": "VQjIxKGZ_sZm",
    "scrolled": true
   },
   "outputs": [
    {
     "name": "stdout",
     "output_type": "stream",
     "text": [
      "##fileformat=VCFv4.2\r\n",
      "##ALT=<ID=NON_REF,Description=\"Represents any possible alternative allele at this location\">\r\n",
      "##FILTER=<ID=LowQual,Description=\"Low quality\">\r\n",
      "##FILTER=<ID=PASS,Description=\"All filters passed\">\r\n",
      "##FORMAT=<ID=AD,Number=R,Type=Integer,Description=\"Allelic depths for the ref and alt alleles in the order listed\">\r\n",
      "##FORMAT=<ID=DP,Number=1,Type=Integer,Description=\"Approximate read depth (reads with MQ=255 or with bad mates are filtered)\">\r\n",
      "##FORMAT=<ID=GQ,Number=1,Type=Integer,Description=\"Genotype Quality\">\r\n",
      "##FORMAT=<ID=GT,Number=1,Type=String,Description=\"Genotype\">\r\n",
      "##FORMAT=<ID=MIN_DP,Number=1,Type=Integer,Description=\"Minimum DP observed within the GVCF block\">\r\n",
      "##FORMAT=<ID=PGT,Number=1,Type=String,Description=\"Physical phasing haplotype information, describing how the alternate alleles are phased in relation to one another\">\r\n",
      "##FORMAT=<ID=PID,Number=1,Type=String,Description=\"Physical phasing ID information, where each unique ID within a given sample (but not across samples) connects records within a phasing group\">\r\n",
      "##FORMAT=<ID=PL,Number=G,Type=Integer,Description=\"Normalized, Phred-scaled likelihoods for genotypes as defined in the VCF specification\">\r\n",
      "##FORMAT=<ID=SB,Number=4,Type=Integer,Description=\"Per-sample component statistics which comprise the Fisher's Exact Test to detect strand bias.\">\r\n",
      "##GATKCommandLine=<ID=GenomicsDBImport,CommandLine=\"GenomicsDBImport --genomicsdb-workspace-path /home/jupyter/notebooks/2-germline-vd/sandbox/trio --variant gs://gatk-tutorials/workshop_2002/2-germline/gvcfs/mother.g.vcf.gz --variant gs://gatk-tutorials/workshop_2002/2-germline/gvcfs/father.g.vcf.gz --variant gs://gatk-tutorials/workshop_2002/2-germline/gvcfs/son.g.vcf.gz --intervals 20:10,000,000-10,200,000 --genomicsdb-segment-size 1048576 --genomicsdb-vcf-buffer-size 16384 --overwrite-existing-genomicsdb-workspace false --batch-size 0 --consolidate false --validate-sample-name-map false --merge-input-intervals false --reader-threads 1 --max-num-intervals-to-import-in-parallel 1 --merge-contigs-into-num-partitions 0 --genomicsdb-shared-posixfs-optimizations false --bypass-feature-reader false --genomicsdb-use-gcs-hdfs-connector false --interval-set-rule UNION --interval-padding 0 --interval-exclusion-padding 0 --interval-merging-rule ALL --read-validation-stringency SILENT --seconds-between-progress-updates 10.0 --disable-sequence-dictionary-validation false --create-output-bam-index true --create-output-bam-md5 false --create-output-variant-index true --create-output-variant-md5 false --max-variants-per-shard 0 --lenient false --add-output-sam-program-record true --add-output-vcf-command-line true --cloud-prefetch-buffer 0 --cloud-index-prefetch-buffer 0 --disable-bam-index-caching false --sites-only-vcf-output false --help false --version false --showHidden false --verbosity INFO --QUIET false --use-jdk-deflater false --use-jdk-inflater false --gcs-max-retries 20 --gcs-project-for-requester-pays  --disable-tool-default-read-filters false\",Version=\"4.3.0.0\",Date=\"January 18, 2024 at 11:30:51 AM UTC\">\r\n",
      "##GATKCommandLine=<ID=SelectVariants,CommandLine=\"SelectVariants --output /home/jupyter/notebooks/2-germline-vd/sandbox/trio_selectvariants.g.vcf --variant gendb://sandbox/trio --reference /home/jupyter/notebooks/2-germline-vd/ref/ref.fasta --invertSelect false --exclude-non-variants false --exclude-filtered false --preserve-alleles false --remove-unused-alternates false --restrict-alleles-to ALL --keep-original-ac false --keep-original-dp false --mendelian-violation false --invert-mendelian-violation false --mendelian-violation-qual-threshold 0.0 --select-random-fraction 0.0 --remove-fraction-genotypes 0.0 --fully-decode false --max-indel-size 2147483647 --min-indel-size 0 --max-filtered-genotypes 2147483647 --min-filtered-genotypes 0 --max-fraction-filtered-genotypes 1.0 --min-fraction-filtered-genotypes 0.0 --max-nocall-number 2147483647 --max-nocall-fraction 1.0 --set-filtered-gt-to-nocall false --allow-nonoverlapping-command-line-samples false --suppress-reference-path false --fail-on-unsorted-genotype false --genomicsdb-max-alternate-alleles 50 --call-genotypes false --genomicsdb-use-bcf-codec false --genomicsdb-shared-posixfs-optimizations false --genomicsdb-use-gcs-hdfs-connector false --interval-set-rule UNION --interval-padding 0 --interval-exclusion-padding 0 --interval-merging-rule ALL --read-validation-stringency SILENT --seconds-between-progress-updates 10.0 --disable-sequence-dictionary-validation false --create-output-bam-index true --create-output-bam-md5 false --create-output-variant-index true --create-output-variant-md5 false --max-variants-per-shard 0 --lenient false --add-output-sam-program-record true --add-output-vcf-command-line true --cloud-prefetch-buffer 40 --cloud-index-prefetch-buffer -1 --disable-bam-index-caching false --sites-only-vcf-output false --help false --version false --showHidden false --verbosity INFO --QUIET false --use-jdk-deflater false --use-jdk-inflater false --gcs-max-retries 20 --gcs-project-for-requester-pays  --disable-tool-default-read-filters false\",Version=\"4.3.0.0\",Date=\"January 18, 2024 at 11:33:10 AM UTC\">\r\n",
      "##GVCFBlock0-1=minGQ=0(inclusive),maxGQ=1(exclusive)\r\n",
      "##GVCFBlock1-2=minGQ=1(inclusive),maxGQ=2(exclusive)\r\n",
      "##GVCFBlock10-11=minGQ=10(inclusive),maxGQ=11(exclusive)\r\n",
      "##GVCFBlock11-12=minGQ=11(inclusive),maxGQ=12(exclusive)\r\n",
      "##GVCFBlock12-13=minGQ=12(inclusive),maxGQ=13(exclusive)\r\n",
      "##GVCFBlock13-14=minGQ=13(inclusive),maxGQ=14(exclusive)\r\n",
      "##GVCFBlock14-15=minGQ=14(inclusive),maxGQ=15(exclusive)\r\n",
      "##GVCFBlock15-16=minGQ=15(inclusive),maxGQ=16(exclusive)\r\n",
      "##GVCFBlock16-17=minGQ=16(inclusive),maxGQ=17(exclusive)\r\n",
      "##GVCFBlock17-18=minGQ=17(inclusive),maxGQ=18(exclusive)\r\n",
      "##GVCFBlock18-19=minGQ=18(inclusive),maxGQ=19(exclusive)\r\n",
      "##GVCFBlock19-20=minGQ=19(inclusive),maxGQ=20(exclusive)\r\n",
      "##GVCFBlock2-3=minGQ=2(inclusive),maxGQ=3(exclusive)\r\n",
      "##GVCFBlock20-21=minGQ=20(inclusive),maxGQ=21(exclusive)\r\n",
      "##GVCFBlock21-22=minGQ=21(inclusive),maxGQ=22(exclusive)\r\n",
      "##GVCFBlock22-23=minGQ=22(inclusive),maxGQ=23(exclusive)\r\n",
      "##GVCFBlock23-24=minGQ=23(inclusive),maxGQ=24(exclusive)\r\n",
      "##GVCFBlock24-25=minGQ=24(inclusive),maxGQ=25(exclusive)\r\n",
      "##GVCFBlock25-26=minGQ=25(inclusive),maxGQ=26(exclusive)\r\n",
      "##GVCFBlock26-27=minGQ=26(inclusive),maxGQ=27(exclusive)\r\n",
      "##GVCFBlock27-28=minGQ=27(inclusive),maxGQ=28(exclusive)\r\n",
      "##GVCFBlock28-29=minGQ=28(inclusive),maxGQ=29(exclusive)\r\n",
      "##GVCFBlock29-30=minGQ=29(inclusive),maxGQ=30(exclusive)\r\n",
      "##GVCFBlock3-4=minGQ=3(inclusive),maxGQ=4(exclusive)\r\n",
      "##GVCFBlock30-31=minGQ=30(inclusive),maxGQ=31(exclusive)\r\n",
      "##GVCFBlock31-32=minGQ=31(inclusive),maxGQ=32(exclusive)\r\n",
      "##GVCFBlock32-33=minGQ=32(inclusive),maxGQ=33(exclusive)\r\n",
      "##GVCFBlock33-34=minGQ=33(inclusive),maxGQ=34(exclusive)\r\n",
      "##GVCFBlock34-35=minGQ=34(inclusive),maxGQ=35(exclusive)\r\n",
      "##GVCFBlock35-36=minGQ=35(inclusive),maxGQ=36(exclusive)\r\n",
      "##GVCFBlock36-37=minGQ=36(inclusive),maxGQ=37(exclusive)\r\n",
      "##GVCFBlock37-38=minGQ=37(inclusive),maxGQ=38(exclusive)\r\n",
      "##GVCFBlock38-39=minGQ=38(inclusive),maxGQ=39(exclusive)\r\n",
      "##GVCFBlock39-40=minGQ=39(inclusive),maxGQ=40(exclusive)\r\n",
      "##GVCFBlock4-5=minGQ=4(inclusive),maxGQ=5(exclusive)\r\n",
      "##GVCFBlock40-41=minGQ=40(inclusive),maxGQ=41(exclusive)\r\n",
      "##GVCFBlock41-42=minGQ=41(inclusive),maxGQ=42(exclusive)\r\n",
      "##GVCFBlock42-43=minGQ=42(inclusive),maxGQ=43(exclusive)\r\n",
      "##GVCFBlock43-44=minGQ=43(inclusive),maxGQ=44(exclusive)\r\n",
      "##GVCFBlock44-45=minGQ=44(inclusive),maxGQ=45(exclusive)\r\n",
      "##GVCFBlock45-46=minGQ=45(inclusive),maxGQ=46(exclusive)\r\n",
      "##GVCFBlock46-47=minGQ=46(inclusive),maxGQ=47(exclusive)\r\n",
      "##GVCFBlock47-48=minGQ=47(inclusive),maxGQ=48(exclusive)\r\n",
      "##GVCFBlock48-49=minGQ=48(inclusive),maxGQ=49(exclusive)\r\n",
      "##GVCFBlock49-50=minGQ=49(inclusive),maxGQ=50(exclusive)\r\n",
      "##GVCFBlock5-6=minGQ=5(inclusive),maxGQ=6(exclusive)\r\n",
      "##GVCFBlock50-51=minGQ=50(inclusive),maxGQ=51(exclusive)\r\n",
      "##GVCFBlock51-52=minGQ=51(inclusive),maxGQ=52(exclusive)\r\n",
      "##GVCFBlock52-53=minGQ=52(inclusive),maxGQ=53(exclusive)\r\n",
      "##GVCFBlock53-54=minGQ=53(inclusive),maxGQ=54(exclusive)\r\n",
      "##GVCFBlock54-55=minGQ=54(inclusive),maxGQ=55(exclusive)\r\n",
      "##GVCFBlock55-56=minGQ=55(inclusive),maxGQ=56(exclusive)\r\n",
      "##GVCFBlock56-57=minGQ=56(inclusive),maxGQ=57(exclusive)\r\n",
      "##GVCFBlock57-58=minGQ=57(inclusive),maxGQ=58(exclusive)\r\n",
      "##GVCFBlock58-59=minGQ=58(inclusive),maxGQ=59(exclusive)\r\n",
      "##GVCFBlock59-60=minGQ=59(inclusive),maxGQ=60(exclusive)\r\n",
      "##GVCFBlock6-7=minGQ=6(inclusive),maxGQ=7(exclusive)\r\n",
      "##GVCFBlock60-70=minGQ=60(inclusive),maxGQ=70(exclusive)\r\n",
      "##GVCFBlock7-8=minGQ=7(inclusive),maxGQ=8(exclusive)\r\n",
      "##GVCFBlock70-80=minGQ=70(inclusive),maxGQ=80(exclusive)\r\n",
      "##GVCFBlock8-9=minGQ=8(inclusive),maxGQ=9(exclusive)\r\n",
      "##GVCFBlock80-90=minGQ=80(inclusive),maxGQ=90(exclusive)\r\n",
      "##GVCFBlock9-10=minGQ=9(inclusive),maxGQ=10(exclusive)\r\n",
      "##GVCFBlock90-99=minGQ=90(inclusive),maxGQ=99(exclusive)\r\n",
      "##GVCFBlock99-100=minGQ=99(inclusive),maxGQ=100(exclusive)\r\n",
      "##INFO=<ID=AC,Number=A,Type=Integer,Description=\"Allele count in genotypes, for each ALT allele, in the same order as listed\">\r\n",
      "##INFO=<ID=AF,Number=A,Type=Float,Description=\"Allele Frequency, for each ALT allele, in the same order as listed\">\r\n",
      "##INFO=<ID=AN,Number=1,Type=Integer,Description=\"Total number of alleles in called genotypes\">\r\n",
      "##INFO=<ID=BaseQRankSum,Number=1,Type=Float,Description=\"Z-score from Wilcoxon rank sum test of Alt Vs. Ref base qualities\">\r\n",
      "##INFO=<ID=DP,Number=1,Type=Integer,Description=\"Approximate read depth; some reads may have been filtered\">\r\n",
      "##INFO=<ID=DS,Number=0,Type=Flag,Description=\"Were any of the samples downsampled?\">\r\n",
      "##INFO=<ID=END,Number=1,Type=Integer,Description=\"Stop position of the interval\">\r\n",
      "##INFO=<ID=ExcessHet,Number=1,Type=Float,Description=\"Phred-scaled p-value for exact test of excess heterozygosity\">\r\n",
      "##INFO=<ID=InbreedingCoeff,Number=1,Type=Float,Description=\"Inbreeding coefficient as estimated from the genotype likelihoods per-sample when compared against the Hardy-Weinberg expectation\">\r\n",
      "##INFO=<ID=MLEAC,Number=A,Type=Integer,Description=\"Maximum likelihood expectation (MLE) for the allele counts (not necessarily the same as the AC), for each ALT allele, in the same order as listed\">\r\n",
      "##INFO=<ID=MLEAF,Number=A,Type=Float,Description=\"Maximum likelihood expectation (MLE) for the allele frequency (not necessarily the same as the AF), for each ALT allele, in the same order as listed\">\r\n",
      "##INFO=<ID=MQRankSum,Number=1,Type=Float,Description=\"Z-score From Wilcoxon rank sum test of Alt vs. Ref read mapping qualities\">\r\n",
      "##INFO=<ID=RAW_MQandDP,Number=2,Type=Integer,Description=\"Raw data (sum of squared MQ and total depth) for improved RMS Mapping Quality calculation. Incompatible with deprecated RAW_MQ formulation.\">\r\n",
      "##INFO=<ID=ReadPosRankSum,Number=1,Type=Float,Description=\"Z-score from Wilcoxon rank sum test of Alt vs. Ref read position bias\">\r\n",
      "##contig=<ID=20,length=63025520,assembly=ref.fasta>\r\n",
      "##reference=file:///home/jupyter/notebooks/2-germline-vd/ref/ref.fasta\r\n",
      "##source=GenomicsDBImport\r\n",
      "##source=SelectVariants\r\n",
      "#CHROM\tPOS\tID\tREF\tALT\tQUAL\tFILTER\tINFO\tFORMAT\tNA12877\tNA12878\tNA12882\r\n",
      "20\t10000000\t.\tT\t<NON_REF>\t.\t.\tEND=10000001\tGT:GQ:MIN_DP:PL:DP\t./.:39:15:0,39,585:15\t./.:48:16:0,48,497:16\t./.:60:20:0,60,573:20\r\n",
      "cat: write error: Broken pipe\r\n"
     ]
    }
   ],
   "source": [
    "! cat /home/jupyter/notebooks/2-germline-vd/sandbox/trio_selectvariants.g.vcf | head -100"
   ]
  },
  {
   "cell_type": "markdown",
   "metadata": {
    "colab_type": "text",
    "id": "F_dbLOnE_sZo"
   },
   "source": [
    "## Run joint genotyping on the trio to generate the VCF\n",
    "The last step is to joint genotype variant sites for the samples using GenotypeGVCFs. "
   ]
  },
  {
   "cell_type": "code",
   "execution_count": 20,
   "metadata": {
    "colab": {},
    "colab_type": "code",
    "id": "6kEpRC1b_sZo",
    "scrolled": true
   },
   "outputs": [
    {
     "name": "stdout",
     "output_type": "stream",
     "text": [
      "Using GATK jar /etc/gatk-4.3.0.0/gatk-package-4.3.0.0-local.jar\n",
      "Running:\n",
      "    java -Dsamjdk.use_async_io_read_samtools=false -Dsamjdk.use_async_io_write_samtools=true -Dsamjdk.use_async_io_write_tribble=false -Dsamjdk.compression_level=2 -jar /etc/gatk-4.3.0.0/gatk-package-4.3.0.0-local.jar GenotypeGVCFs -R /home/jupyter/notebooks/2-germline-vd/ref/ref.fasta -V gendb://sandbox/trio -O /home/jupyter/notebooks/2-germline-vd/sandbox/trioGGVCF.vcf -L 20:10,000,000-10,200,000\n",
      "11:34:23.261 INFO  NativeLibraryLoader - Loading libgkl_compression.so from jar:file:/etc/gatk-4.3.0.0/gatk-package-4.3.0.0-local.jar!/com/intel/gkl/native/libgkl_compression.so\n",
      "11:34:23.461 INFO  GenotypeGVCFs - ------------------------------------------------------------\n",
      "11:34:23.461 INFO  GenotypeGVCFs - The Genome Analysis Toolkit (GATK) v4.3.0.0\n",
      "11:34:23.461 INFO  GenotypeGVCFs - For support and documentation go to https://software.broadinstitute.org/gatk/\n",
      "11:34:23.462 INFO  GenotypeGVCFs - Executing as jupyter@fbe403654369 on Linux v5.15.133+ amd64\n",
      "11:34:23.462 INFO  GenotypeGVCFs - Java runtime: OpenJDK 64-Bit Server VM v11.0.20.1+1-post-Ubuntu-0ubuntu120.04\n",
      "11:34:23.462 INFO  GenotypeGVCFs - Start Date/Time: January 18, 2024 at 11:34:23 AM UTC\n",
      "11:34:23.462 INFO  GenotypeGVCFs - ------------------------------------------------------------\n",
      "11:34:23.462 INFO  GenotypeGVCFs - ------------------------------------------------------------\n",
      "11:34:23.464 INFO  GenotypeGVCFs - HTSJDK Version: 3.0.1\n",
      "11:34:23.464 INFO  GenotypeGVCFs - Picard Version: 2.27.5\n",
      "11:34:23.465 INFO  GenotypeGVCFs - Built for Spark Version: 2.4.5\n",
      "11:34:23.465 INFO  GenotypeGVCFs - HTSJDK Defaults.COMPRESSION_LEVEL : 2\n",
      "11:34:23.465 INFO  GenotypeGVCFs - HTSJDK Defaults.USE_ASYNC_IO_READ_FOR_SAMTOOLS : false\n",
      "11:34:23.465 INFO  GenotypeGVCFs - HTSJDK Defaults.USE_ASYNC_IO_WRITE_FOR_SAMTOOLS : true\n",
      "11:34:23.465 INFO  GenotypeGVCFs - HTSJDK Defaults.USE_ASYNC_IO_WRITE_FOR_TRIBBLE : false\n",
      "11:34:23.465 INFO  GenotypeGVCFs - Deflater: IntelDeflater\n",
      "11:34:23.466 INFO  GenotypeGVCFs - Inflater: IntelInflater\n",
      "11:34:23.466 INFO  GenotypeGVCFs - GCS max retries/reopens: 20\n",
      "11:34:23.466 INFO  GenotypeGVCFs - Requester pays: disabled\n",
      "11:34:23.466 INFO  GenotypeGVCFs - Initializing engine\n",
      "11:34:24.186 INFO  GenomicsDBLibLoader - GenomicsDB native library version : 1.4.3-6069e4a\n",
      "11:34:24.238 info  NativeGenomicsDB - pid=1964 tid=1965 No valid combination operation found for INFO field DS  - the field will NOT be part of INFO fields in the generated VCF records\n",
      "11:34:24.238 info  NativeGenomicsDB - pid=1964 tid=1965 No valid combination operation found for INFO field InbreedingCoeff  - the field will NOT be part of INFO fields in the generated VCF records\n",
      "11:34:24.238 info  NativeGenomicsDB - pid=1964 tid=1965 No valid combination operation found for INFO field MLEAC  - the field will NOT be part of INFO fields in the generated VCF records\n",
      "11:34:24.238 info  NativeGenomicsDB - pid=1964 tid=1965 No valid combination operation found for INFO field MLEAF  - the field will NOT be part of INFO fields in the generated VCF records\n",
      "11:34:24.289 INFO  IntervalArgumentCollection - Processing 200001 bp from intervals\n",
      "11:34:24.293 INFO  GenotypeGVCFs - Done initializing engine\n",
      "11:34:24.353 INFO  ProgressMeter - Starting traversal\n",
      "11:34:24.354 INFO  ProgressMeter -        Current Locus  Elapsed Minutes    Variants Processed  Variants/Minute\n",
      "11:34:25.469 WARN  InbreedingCoeff - InbreedingCoeff will not be calculated at position 20:10000117 and possibly subsequent; at least 10 samples must have called genotypes\n",
      "GENOMICSDB_TIMER,GenomicsDB iterator next() timer,Wall-clock time(s),2.298041583999986,Cpu time(s),2.196922592000036\n",
      "11:34:31.897 INFO  ProgressMeter -          20:10199892              0.1                121067         963142.4\n",
      "11:34:31.897 INFO  ProgressMeter - Traversal complete. Processed 121067 total variants in 0.1 minutes.\n",
      "11:34:31.910 INFO  GenotypeGVCFs - Shutting down engine\n",
      "[January 18, 2024 at 11:34:31 AM UTC] org.broadinstitute.hellbender.tools.walkers.GenotypeGVCFs done. Elapsed time: 0.14 minutes.\n",
      "Runtime.totalMemory()=326107136\n"
     ]
    }
   ],
   "source": [
    "! gatk GenotypeGVCFs \\\n",
    "    -R /home/jupyter/notebooks/2-germline-vd/ref/ref.fasta \\\n",
    "    -V gendb://sandbox/trio \\\n",
    "    -O /home/jupyter/notebooks/2-germline-vd/sandbox/trioGGVCF.vcf \\\n",
    "    -L 20:10,000,000-10,200,000"
   ]
  },
  {
   "cell_type": "code",
   "execution_count": 24,
   "metadata": {
    "colab": {},
    "colab_type": "code",
    "id": "jDQcLTlS_sZq",
    "scrolled": true
   },
   "outputs": [
    {
     "name": "stdout",
     "output_type": "stream",
     "text": [
      "Copying file:///home/jupyter/notebooks/2-germline-vd/sandbox/mother.g.vcf [Content-Type=text/vcard]...\n",
      "Copying file:///home/jupyter/notebooks/2-germline-vd/sandbox/mother.g.vcf.idx [Content-Type=application/octet-stream]...\n",
      "Copying file:///home/jupyter/notebooks/2-germline-vd/sandbox/motherHCdebug.bai [Content-Type=application/octet-stream]...\n",
      "Copying file:///home/jupyter/notebooks/2-germline-vd/sandbox/motherHCdebug.bam [Content-Type=application/octet-stream]...\n",
      "/ [4 files][  4.7 MiB/  4.7 MiB]                                                \n",
      "==> NOTE: You are performing a sequence of gsutil operations that may\n",
      "run significantly faster if you instead use gsutil -m cp ... Please\n",
      "see the -m section under \"gsutil help options\" for further information\n",
      "about when gsutil -m can be advantageous.\n",
      "\n",
      "Copying file:///home/jupyter/notebooks/2-germline-vd/sandbox/motherHCdebug.vcf [Content-Type=text/vcard]...\n",
      "Copying file:///home/jupyter/notebooks/2-germline-vd/sandbox/motherHCdebug.vcf.idx [Content-Type=application/octet-stream]...\n",
      "Copying file:///home/jupyter/notebooks/2-germline-vd/sandbox/motherHC.vcf [Content-Type=text/vcard]...\n",
      "Copying file:///home/jupyter/notebooks/2-germline-vd/sandbox/motherHC.vcf.idx [Content-Type=application/octet-stream]...\n",
      "Omitting directory \"file:///home/jupyter/notebooks/2-germline-vd/sandbox/trio\". (Did you mean to do cp -r?)\n",
      "Copying file:///home/jupyter/notebooks/2-germline-vd/sandbox/trioGGVCF.vcf [Content-Type=text/vcard]...\n",
      "Copying file:///home/jupyter/notebooks/2-germline-vd/sandbox/trioGGVCF.vcf.idx [Content-Type=application/octet-stream]...\n",
      "Copying file:///home/jupyter/notebooks/2-germline-vd/sandbox/trio_selectvariants.g.vcf [Content-Type=text/vcard]...\n",
      "Copying file:///home/jupyter/notebooks/2-germline-vd/sandbox/trio_selectvariants.g.vcf.idx [Content-Type=application/octet-stream]...\n",
      "\\ [12 files][ 19.3 MiB/ 19.3 MiB]                                               \n",
      "Operation completed over 12 objects/19.3 MiB.                                    \n"
     ]
    }
   ],
   "source": [
    "# copy files from your notebook sandbox to your workspace bucket sandbox\n",
    "! gsutil cp /home/jupyter/notebooks/2-germline-vd/sandbox/* $BUCKET/sandbox"
   ]
  },
  {
   "cell_type": "markdown",
   "metadata": {
    "colab_type": "text",
    "id": "vJx9S4HF_sZu"
   },
   "source": [
    "The calls made by GenotypeGVCFs and HaplotypeCaller run in multisample mode should mostly be equivalent, especially as cohort sizes increase. However, there can be some marginal differences in borderline calls, i.e. low-quality variant sites, in particular for small cohorts with low coverage. For such cases, joint genotyping directly with HaplotypeCaller and/or using the new quality score model with GenotypeGVCFs (turned on with `-new-qual`) may be preferable.\n",
    "\n",
    "```\n",
    "gatk HaplotypeCaller \\\n",
    "    -R ref/ref.fasta \\\n",
    "    -I bams/mother.bam \\\n",
    "    -I bams/father.bam \\\n",
    "    -I bams/son.bam \\\n",
    "    -O sandbox/trio_hcjoint_nq.vcf \\\n",
    "    -L 20:10,000,000-10,200,000 \\\n",
    "    -new-qual \\\n",
    "    -bamout sandbox/trio_hcjoint_nq.bam\n",
    "```\n",
    "\n",
    "In the interest of time, we do not run the above command. Note the BAMOUT will contain reassembled reads for all the input samples. \n",
    "\n",
    "Let's circle back to the locus we examined at the start. Load sandbox/trioGGVCF.vcf into IGV and navigate to <b>20:10,002,376-10,002,550</b>."
   ]
  },
  {
   "cell_type": "code",
   "execution_count": 21,
   "metadata": {
    "colab": {},
    "colab_type": "code",
    "id": "ljqkM5cO_sZu",
    "scrolled": true
   },
   "outputs": [
    {
     "name": "stdout",
     "output_type": "stream",
     "text": [
      "gs://fc-b426f92d-adf2-45bc-a714-69ee3db2ba38/sandbox/trioGGVCF.vcf\r\n"
     ]
    }
   ],
   "source": [
    "# prints out the file paths you will need to open in IGV\n",
    "! echo $BUCKET/sandbox/trioGGVCF.vcf"
   ]
  },
  {
   "cell_type": "markdown",
   "metadata": {
    "colab_type": "text",
    "id": "_grivpf4_sZv"
   },
   "source": [
    "<img src=\"https://storage.googleapis.com/gatk-tutorials/images/2-germline/vd-image10-IGVDesktop.png\" alt=\"drawing\" width=\"50%\"/>"
   ]
  },
  {
   "cell_type": "markdown",
   "metadata": {
    "colab_type": "text",
    "id": "_grivpf4_sZv"
   },
   "source": [
    "<img src=\"https://storage.googleapis.com/gatk-tutorials/images/2-germline/vd-image11-IGVDesktop.png\" alt=\"drawing\" width=\"20%\" align=right style=\"margin:20px 20px\"/>\n",
    "\n",
    "Take a look at the father's genotype call at **20:10002458** (the leftmost variant call). Knowing the familial relationship for the three samples and the child's homozygous-variant genotype, what do you think about the father's HOM_REF call?\n",
    "\n",
    "Results from GATK v4.0.1.0 also show HOMREF but give PLs (phred-scaled likelihoods) of 0,0,460. Changes since then improve hom-ref GQs near indels in GVCFs, as seen in the results from GATK v4.1.1.0 in the picture on the right. The table below shows this is an ambiguous site for other callers as well. \n",
    "\n",
    "<img src=\"https://storage.googleapis.com/gatk-tutorials/images/2-germline/vd-image3.png\" alt=\"drawing\" width=\"60%\" align=left style=\"margin:0px 20px\"/> "
   ]
  },
  {
   "cell_type": "markdown",
   "metadata": {},
   "source": [
    "If you recall the pipeline at the top of this notebook, you'll remember that there are several post-processing steps after we get raw variant calls. It's possible that those filtering steps would improve the call to resolve the Mendelian inheritance violation, but we don't have time to look into that further today.\n",
    "\n",
    "Now let's take a look at the father's other variant call at **20:10002470** (the rightmost one). It also doesn't follow familial inheritance rules, but if you click on that site you'll notice something very interesting. The genotype is marked as `./.` and the PL is `0,0,0`. This indicates that HaplotypeCaller emitted **no call** at that location--it did not find evidence for either a reference call or a variant call for the father.\n",
    "\n",
    "This is a great candidate for genotype refinement."
   ]
  },
  {
   "cell_type": "markdown",
   "metadata": {
    "colab_type": "text",
    "id": "NJhUfYUz_sZw"
   },
   "source": [
    "------------------------------------------------------------------------------------"
   ]
  },
  {
   "cell_type": "markdown",
   "metadata": {
    "colab_type": "text",
    "id": "LcgbCe_1_sZw"
   },
   "source": [
    "# Genotype Refinement"
   ]
  },
  {
   "cell_type": "markdown",
   "metadata": {
    "colab_type": "text",
    "id": "gmQGbP1z_sZx"
   },
   "source": [
    "## Refine the genotype calls with CalculateGenotypePosteriors\n",
    "If you are running this notebook as a part of the GATK workshop series, then you will shortly hear more about Genotype Refinement. The basic principle is that we can systematically refine our calls for the trio using a tool called CalculateGenotypePosteriors. For starters, we can use pedigree information, which is provided in the trio.ped file. Second, we can use population priors; we use a population allele frequencies resource derived from gnomAD."
   ]
  },
  {
   "cell_type": "code",
   "execution_count": 22,
   "metadata": {
    "colab": {},
    "colab_type": "code",
    "id": "TJDAxfH-_sZy",
    "scrolled": true
   },
   "outputs": [
    {
     "name": "stdout",
     "output_type": "stream",
     "text": [
      "Using GATK jar /etc/gatk-4.3.0.0/gatk-package-4.3.0.0-local.jar\n",
      "Running:\n",
      "    java -Dsamjdk.use_async_io_read_samtools=false -Dsamjdk.use_async_io_write_samtools=true -Dsamjdk.use_async_io_write_tribble=false -Dsamjdk.compression_level=2 -jar /etc/gatk-4.3.0.0/gatk-package-4.3.0.0-local.jar CalculateGenotypePosteriors -V /home/jupyter/notebooks/2-germline-vd/sandbox/trioGGVCF.vcf -ped /home/jupyter/notebooks/2-germline-vd/trio.ped --skip-population-priors -O /home/jupyter/notebooks/2-germline-vd/sandbox/trioCGP.vcf\n",
      "11:43:50.923 INFO  NativeLibraryLoader - Loading libgkl_compression.so from jar:file:/etc/gatk-4.3.0.0/gatk-package-4.3.0.0-local.jar!/com/intel/gkl/native/libgkl_compression.so\n",
      "11:43:51.127 INFO  CalculateGenotypePosteriors - ------------------------------------------------------------\n",
      "11:43:51.127 INFO  CalculateGenotypePosteriors - The Genome Analysis Toolkit (GATK) v4.3.0.0\n",
      "11:43:51.127 INFO  CalculateGenotypePosteriors - For support and documentation go to https://software.broadinstitute.org/gatk/\n",
      "11:43:51.128 INFO  CalculateGenotypePosteriors - Executing as jupyter@fbe403654369 on Linux v5.15.133+ amd64\n",
      "11:43:51.128 INFO  CalculateGenotypePosteriors - Java runtime: OpenJDK 64-Bit Server VM v11.0.20.1+1-post-Ubuntu-0ubuntu120.04\n",
      "11:43:51.128 INFO  CalculateGenotypePosteriors - Start Date/Time: January 18, 2024 at 11:43:50 AM UTC\n",
      "11:43:51.128 INFO  CalculateGenotypePosteriors - ------------------------------------------------------------\n",
      "11:43:51.129 INFO  CalculateGenotypePosteriors - ------------------------------------------------------------\n",
      "11:43:51.130 INFO  CalculateGenotypePosteriors - HTSJDK Version: 3.0.1\n",
      "11:43:51.130 INFO  CalculateGenotypePosteriors - Picard Version: 2.27.5\n",
      "11:43:51.130 INFO  CalculateGenotypePosteriors - Built for Spark Version: 2.4.5\n",
      "11:43:51.130 INFO  CalculateGenotypePosteriors - HTSJDK Defaults.COMPRESSION_LEVEL : 2\n",
      "11:43:51.130 INFO  CalculateGenotypePosteriors - HTSJDK Defaults.USE_ASYNC_IO_READ_FOR_SAMTOOLS : false\n",
      "11:43:51.130 INFO  CalculateGenotypePosteriors - HTSJDK Defaults.USE_ASYNC_IO_WRITE_FOR_SAMTOOLS : true\n",
      "11:43:51.131 INFO  CalculateGenotypePosteriors - HTSJDK Defaults.USE_ASYNC_IO_WRITE_FOR_TRIBBLE : false\n",
      "11:43:51.131 INFO  CalculateGenotypePosteriors - Deflater: IntelDeflater\n",
      "11:43:51.131 INFO  CalculateGenotypePosteriors - Inflater: IntelInflater\n",
      "11:43:51.131 INFO  CalculateGenotypePosteriors - GCS max retries/reopens: 20\n",
      "11:43:51.131 INFO  CalculateGenotypePosteriors - Requester pays: disabled\n",
      "11:43:51.131 INFO  CalculateGenotypePosteriors - Initializing engine\n",
      "11:43:51.353 INFO  FeatureManager - Using codec VCFCodec to read file file:///home/jupyter/notebooks/2-germline-vd/sandbox/trioGGVCF.vcf\n",
      "11:43:51.442 INFO  CalculateGenotypePosteriors - Done initializing engine\n",
      "11:43:51.455 INFO  PedReader - Phenotype is other? false\n",
      "11:43:51.511 INFO  ProgressMeter - Starting traversal\n",
      "11:43:51.512 INFO  ProgressMeter -        Current Locus  Elapsed Minutes    Variants Processed  Variants/Minute\n",
      "11:43:51.963 INFO  ProgressMeter -             unmapped              0.0                   558          74235.0\n",
      "11:43:51.963 INFO  ProgressMeter - Traversal complete. Processed 558 total variants in 0.0 minutes.\n",
      "11:43:51.980 INFO  CalculateGenotypePosteriors - Shutting down engine\n",
      "[January 18, 2024 at 11:43:51 AM UTC] org.broadinstitute.hellbender.tools.walkers.variantutils.CalculateGenotypePosteriors done. Elapsed time: 0.02 minutes.\n",
      "Runtime.totalMemory()=272629760\n"
     ]
    }
   ],
   "source": [
    "! gatk CalculateGenotypePosteriors \\\n",
    "    -V /home/jupyter/notebooks/2-germline-vd/sandbox/trioGGVCF.vcf \\\n",
    "    -ped /home/jupyter/notebooks/2-germline-vd/trio.ped \\\n",
    "    --skip-population-priors \\\n",
    "    -O /home/jupyter/notebooks/2-germline-vd/sandbox/trioCGP.vcf"
   ]
  },
  {
   "cell_type": "code",
   "execution_count": 27,
   "metadata": {
    "colab": {},
    "colab_type": "code",
    "id": "mEBVXsvp_sZ0",
    "scrolled": true
   },
   "outputs": [
    {
     "name": "stdout",
     "output_type": "stream",
     "text": [
      "Using GATK jar /gatk/gatk-4.4.0.0/gatk-package-4.4.0.0-local.jar\n",
      "Running:\n",
      "    java -Dsamjdk.use_async_io_read_samtools=false -Dsamjdk.use_async_io_write_samtools=true -Dsamjdk.use_async_io_write_tribble=false -Dsamjdk.compression_level=2 -jar /gatk/gatk-4.4.0.0/gatk-package-4.4.0.0-local.jar CalculateGenotypePosteriors -V /home/jupyter/notebooks/2-germline-vd/sandbox/trioGGVCF.vcf -ped /home/jupyter/notebooks/2-germline-vd/trio.ped --supporting-callsets /home/jupyter/notebooks/2-germline-vd/resources/af-only-gnomad.chr20subset.b37.vcf.gz -O /home/jupyter/notebooks/2-germline-vd/sandbox/trioCGP_gnomad.vcf\n",
      "16:10:07.588 INFO  NativeLibraryLoader - Loading libgkl_compression.so from jar:file:/gatk/gatk-4.4.0.0/gatk-package-4.4.0.0-local.jar!/com/intel/gkl/native/libgkl_compression.so\n",
      "16:10:07.640 INFO  CalculateGenotypePosteriors - ------------------------------------------------------------\n",
      "16:10:07.644 INFO  CalculateGenotypePosteriors - The Genome Analysis Toolkit (GATK) v4.4.0.0\n",
      "16:10:07.644 INFO  CalculateGenotypePosteriors - For support and documentation go to https://software.broadinstitute.org/gatk/\n",
      "16:10:07.644 INFO  CalculateGenotypePosteriors - Executing as jupyter@8eacd9ff8491 on Linux v5.15.133+ amd64\n",
      "16:10:07.644 INFO  CalculateGenotypePosteriors - Java runtime: OpenJDK 64-Bit Server VM v17.0.8.1+1-Ubuntu-0ubuntu120.04\n",
      "16:10:07.645 INFO  CalculateGenotypePosteriors - Start Date/Time: November 9, 2023 at 4:10:07 PM UTC\n",
      "16:10:07.645 INFO  CalculateGenotypePosteriors - ------------------------------------------------------------\n",
      "16:10:07.645 INFO  CalculateGenotypePosteriors - ------------------------------------------------------------\n",
      "16:10:07.646 INFO  CalculateGenotypePosteriors - HTSJDK Version: 3.0.5\n",
      "16:10:07.646 INFO  CalculateGenotypePosteriors - Picard Version: 3.0.0\n",
      "16:10:07.646 INFO  CalculateGenotypePosteriors - Built for Spark Version: 3.3.1\n",
      "16:10:07.647 INFO  CalculateGenotypePosteriors - HTSJDK Defaults.COMPRESSION_LEVEL : 2\n",
      "16:10:07.647 INFO  CalculateGenotypePosteriors - HTSJDK Defaults.USE_ASYNC_IO_READ_FOR_SAMTOOLS : false\n",
      "16:10:07.647 INFO  CalculateGenotypePosteriors - HTSJDK Defaults.USE_ASYNC_IO_WRITE_FOR_SAMTOOLS : true\n",
      "16:10:07.648 INFO  CalculateGenotypePosteriors - HTSJDK Defaults.USE_ASYNC_IO_WRITE_FOR_TRIBBLE : false\n",
      "16:10:07.648 INFO  CalculateGenotypePosteriors - Deflater: IntelDeflater\n",
      "16:10:07.648 INFO  CalculateGenotypePosteriors - Inflater: IntelInflater\n",
      "16:10:07.648 INFO  CalculateGenotypePosteriors - GCS max retries/reopens: 20\n",
      "16:10:07.649 INFO  CalculateGenotypePosteriors - Requester pays: disabled\n",
      "16:10:07.649 INFO  CalculateGenotypePosteriors - Initializing engine\n",
      "16:10:07.785 INFO  FeatureManager - Using codec VCFCodec to read file file:///home/jupyter/notebooks/2-germline-vd/resources/af-only-gnomad.chr20subset.b37.vcf.gz\n",
      "16:10:07.803 INFO  FeatureManager - Using codec VCFCodec to read file file:///home/jupyter/notebooks/2-germline-vd/sandbox/trioGGVCF.vcf\n",
      "16:10:07.832 WARN  IndexUtils - Feature file \"file:///home/jupyter/notebooks/2-germline-vd/resources/af-only-gnomad.chr20subset.b37.vcf.gz\" appears to contain no sequence dictionary. Attempting to retrieve a sequence dictionary from the associated index file\n",
      "16:10:07.834 WARN  IntelInflater - Zero Bytes Written : 0\n",
      "16:10:07.845 INFO  CalculateGenotypePosteriors - Done initializing engine\n",
      "16:10:07.853 INFO  PedReader - Phenotype is other? false\n",
      "16:10:07.892 INFO  ProgressMeter - Starting traversal\n",
      "16:10:07.893 INFO  ProgressMeter -        Current Locus  Elapsed Minutes    Variants Processed  Variants/Minute\n",
      "16:10:08.583 INFO  ProgressMeter -             unmapped              0.0                   558          48521.7\n",
      "16:10:08.584 INFO  ProgressMeter - Traversal complete. Processed 558 total variants in 0.0 minutes.\n",
      "16:10:08.597 INFO  CalculateGenotypePosteriors - Shutting down engine\n",
      "[November 9, 2023 at 4:10:08 PM UTC] org.broadinstitute.hellbender.tools.walkers.variantutils.CalculateGenotypePosteriors done. Elapsed time: 0.02 minutes.\n",
      "Runtime.totalMemory()=125829120\n"
     ]
    }
   ],
   "source": [
    "! gatk CalculateGenotypePosteriors \\\n",
    "    -V /home/jupyter/notebooks/2-germline-vd/sandbox/trioGGVCF.vcf \\\n",
    "    -ped /home/jupyter/notebooks/2-germline-vd/trio.ped \\\n",
    "    --supporting-callsets /home/jupyter/notebooks/2-germline-vd/resources/af-only-gnomad.chr20subset.b37.vcf.gz \\\n",
    "    -O /home/jupyter/notebooks/2-germline-vd/sandbox/trioCGP_gnomad.vcf"
   ]
  },
  {
   "cell_type": "code",
   "execution_count": 23,
   "metadata": {
    "colab": {},
    "colab_type": "code",
    "id": "PMO60gT__sZ2",
    "scrolled": true
   },
   "outputs": [
    {
     "name": "stdout",
     "output_type": "stream",
     "text": [
      "Copying file:///home/jupyter/notebooks/2-germline-vd/sandbox/mother.g.vcf [Content-Type=text/vcard]...\n",
      "Copying file:///home/jupyter/notebooks/2-germline-vd/sandbox/mother.g.vcf.idx [Content-Type=application/octet-stream]...\n",
      "Copying file:///home/jupyter/notebooks/2-germline-vd/sandbox/motherHCdebug.bai [Content-Type=application/octet-stream]...\n",
      "Copying file:///home/jupyter/notebooks/2-germline-vd/sandbox/motherHCdebug.bam [Content-Type=application/octet-stream]...\n",
      "/ [4 files][  4.7 MiB/  4.7 MiB]                                                \n",
      "==> NOTE: You are performing a sequence of gsutil operations that may\n",
      "run significantly faster if you instead use gsutil -m cp ... Please\n",
      "see the -m section under \"gsutil help options\" for further information\n",
      "about when gsutil -m can be advantageous.\n",
      "\n",
      "Copying file:///home/jupyter/notebooks/2-germline-vd/sandbox/motherHCdebug.vcf [Content-Type=text/vcard]...\n",
      "Copying file:///home/jupyter/notebooks/2-germline-vd/sandbox/motherHCdebug.vcf.idx [Content-Type=application/octet-stream]...\n",
      "Copying file:///home/jupyter/notebooks/2-germline-vd/sandbox/motherHC.vcf [Content-Type=text/vcard]...\n",
      "Copying file:///home/jupyter/notebooks/2-germline-vd/sandbox/motherHC.vcf.idx [Content-Type=application/octet-stream]...\n",
      "Omitting directory \"file:///home/jupyter/notebooks/2-germline-vd/sandbox/trio\". (Did you mean to do cp -r?)\n",
      "Copying file:///home/jupyter/notebooks/2-germline-vd/sandbox/trioCGP.vcf [Content-Type=text/vcard]...\n",
      "Copying file:///home/jupyter/notebooks/2-germline-vd/sandbox/trioCGP.vcf.idx [Content-Type=application/octet-stream]...\n",
      "Copying file:///home/jupyter/notebooks/2-germline-vd/sandbox/trioGGVCF.vcf [Content-Type=text/vcard]...\n",
      "Copying file:///home/jupyter/notebooks/2-germline-vd/sandbox/trioGGVCF.vcf.idx [Content-Type=application/octet-stream]...\n",
      "Copying file:///home/jupyter/notebooks/2-germline-vd/sandbox/trio_selectvariants.g.vcf [Content-Type=text/vcard]...\n",
      "Copying file:///home/jupyter/notebooks/2-germline-vd/sandbox/trio_selectvariants.g.vcf.idx [Content-Type=application/octet-stream]...\n",
      "\\ [14 files][ 19.5 MiB/ 19.5 MiB]                                               \n",
      "Operation completed over 14 objects/19.5 MiB.                                    \n"
     ]
    }
   ],
   "source": [
    "# copy files from your notebook sandbox to your workspace bucket sandbox\n",
    "! gsutil cp /home/jupyter/notebooks/2-germline-vd/sandbox/* $BUCKET/sandbox"
   ]
  },
  {
   "cell_type": "code",
   "execution_count": 24,
   "metadata": {
    "colab": {},
    "colab_type": "code",
    "id": "SBXk9uS2_sZ3",
    "scrolled": true
   },
   "outputs": [
    {
     "name": "stdout",
     "output_type": "stream",
     "text": [
      "gs://fc-b426f92d-adf2-45bc-a714-69ee3db2ba38/sandbox/trioCGP.vcf\n",
      "gs://fc-b426f92d-adf2-45bc-a714-69ee3db2ba38/sandbox/trioCGP_gnomad.vcf\n"
     ]
    }
   ],
   "source": [
    "# prints out the file paths you will need to open in IGV\n",
    "! echo $BUCKET/sandbox/trioCGP.vcf\n",
    "! echo $BUCKET/sandbox/trioCGP_gnomad.vcf"
   ]
  },
  {
   "cell_type": "markdown",
   "metadata": {
    "colab_type": "text",
    "id": "1y_vMuXU_sZ4"
   },
   "source": [
    "#### <img src=\"https://storage.googleapis.com/gatk-tutorials/images/2-germline/vd-image12-IGVDesktop.png\" alt=\"drawing\" width=\"30%\" align=right style=\"margin:0px 20px\"/> Add both sandbox/trioCGP.vcf and sandbox/trioCGP_gnomad.vcf to the IGV session. \n",
    "\n",
    "➤ What has changed? What has not changed?\n",
    "\n",
    "You'll notice that the difficult-to-call site on the left (position 10002458) hasn't adjusted its calls at all, but it has become a lot less confident in its call. Compare the GQ values, and you'll see that it's confidence in that G/G call is much lower-- from 42 to 2. A GQ of 2 is a site that would certainly be filtered out in post-processing.\n",
    "\n",
    "CalculateGenotypePosteriors adds the Phred-scaled Posterior Probability (**PP**), which basically refines the PL values. It incorporates the prior expectations for the given pedigree and/or population allele frequencies. Compare the PP and PL of the final gnomad file, and you'll see that there was another haplotype it ranked at a likelihood of 4. This means this site is pretty closely torn between 3 different possible haplotypes.\n",
    "\n",
    "On the other hand, the ambiguous site on the right (position 10002470) was improved as we had predicted! With information from both the population priors and pedigree data, the father's new variant call at that site is `HOM_VAR` with a genotype quality of 42. This is now a confident `HOM_VAR` call.\n",
    "\n",
    "The PL stays the same, still calling 0,0,0. If you add to the cohort again in the future, you'll be able to re-evaluate. In our case, it looks like CalculateGenotypePosteriors found that the population, including the family, had a high frequency for the T allele at this site."
   ]
  },
  {
   "cell_type": "markdown",
   "metadata": {
    "colab_type": "text",
    "id": "Ok1EaBJa_sZ5"
   },
   "source": [
    " <img src=\"https://storage.googleapis.com/gatk-tutorials/images/2-germline/vd-image13-IGVDesktop.png\" alt=\"drawing\" width=\"43%\" align=left style=\"margin:0px 20px\"/> <img src=\"https://storage.googleapis.com/gatk-tutorials/images/2-germline/vd-image14-IGVDesktop.png\" alt=\"drawing\" width=\"43%\" align=left style=\"margin:0px 20px\"/> "
   ]
  },
  {
   "cell_type": "markdown",
   "metadata": {},
   "source": [
    "You can learn more about the Genotype Refinement workflow [here](https://software.broadinstitute.org/gatk/documentation/article?id=11074).  "
   ]
  },
  {
   "cell_type": "markdown",
   "metadata": {
    "colab_type": "text",
    "id": "4sD0IyWa_sZ5"
   },
   "source": [
    "## Compare changes with CollectVariantCallingMetrics \n",
    "There are a few different GATK/Picard tools to compare site-level and genotype-level concordance. If you are in a GATK workshop while running this tutorial, you will see the presentation soon. If you aren't, here's a quick summary. `CollectVariantCallingMetrics` collects summary and per-sample metrics about variant calls in a VCF file. We are going to compare our callsets before and after Genotype Refinement to see if we've improved them overall."
   ]
  },
  {
   "cell_type": "code",
   "execution_count": 30,
   "metadata": {
    "colab": {},
    "colab_type": "code",
    "id": "2DJNxrYJ_sZ6",
    "scrolled": true
   },
   "outputs": [
    {
     "name": "stdout",
     "output_type": "stream",
     "text": [
      "Using GATK jar /gatk/gatk-4.4.0.0/gatk-package-4.4.0.0-local.jar\n",
      "Running:\n",
      "    java -Dsamjdk.use_async_io_read_samtools=false -Dsamjdk.use_async_io_write_samtools=true -Dsamjdk.use_async_io_write_tribble=false -Dsamjdk.compression_level=2 -jar /gatk/gatk-4.4.0.0/gatk-package-4.4.0.0-local.jar CollectVariantCallingMetrics -I /home/jupyter/notebooks/2-germline-vd/sandbox/trioGGVCF.vcf --DBSNP /home/jupyter/notebooks/2-germline-vd/resources/dbsnp.vcf -O /home/jupyter/notebooks/2-germline-vd/sandbox/trioGGVCF_metrics\n",
      "16:10:19.247 INFO  NativeLibraryLoader - Loading libgkl_compression.so from jar:file:/gatk/gatk-4.4.0.0/gatk-package-4.4.0.0-local.jar!/com/intel/gkl/native/libgkl_compression.so\n",
      "[Thu Nov 09 16:10:19 UTC 2023] CollectVariantCallingMetrics --INPUT /home/jupyter/notebooks/2-germline-vd/sandbox/trioGGVCF.vcf --OUTPUT /home/jupyter/notebooks/2-germline-vd/sandbox/trioGGVCF_metrics --DBSNP /home/jupyter/notebooks/2-germline-vd/resources/dbsnp.vcf --GVCF_INPUT false --THREAD_COUNT 1 --VERBOSITY INFO --QUIET false --VALIDATION_STRINGENCY STRICT --COMPRESSION_LEVEL 2 --MAX_RECORDS_IN_RAM 500000 --CREATE_INDEX false --CREATE_MD5_FILE false --help false --version false --showHidden false --USE_JDK_DEFLATER false --USE_JDK_INFLATER false\n",
      "[Thu Nov 09 16:10:19 UTC 2023] Executing as jupyter@8eacd9ff8491 on Linux 5.15.133+ amd64; OpenJDK 64-Bit Server VM 17.0.8.1+1-Ubuntu-0ubuntu120.04; Deflater: Intel; Inflater: Intel; Provider GCS is available; Picard version: Version:4.4.0.0\n",
      "INFO\t2023-11-09 16:10:19\tCollectVariantCallingMetrics\tLoading dbSNP file ...\n",
      "INFO\t2023-11-09 16:10:20\tCollectVariantCallingMetrics\tRead       100,000 variants.  Elapsed time: 00:00:01s.  Time for last 100,000:    0s.  Last read position: 20:4,248,175\n",
      "INFO\t2023-11-09 16:10:20\tCollectVariantCallingMetrics\tRead       200,000 variants.  Elapsed time: 00:00:01s.  Time for last 100,000:    0s.  Last read position: 20:8,608,362\n",
      "INFO\t2023-11-09 16:10:21\tCollectVariantCallingMetrics\tRead       300,000 variants.  Elapsed time: 00:00:02s.  Time for last 100,000:    0s.  Last read position: 20:13,151,341\n",
      "INFO\t2023-11-09 16:10:21\tCollectVariantCallingMetrics\tRead       400,000 variants.  Elapsed time: 00:00:02s.  Time for last 100,000:    0s.  Last read position: 20:17,712,741\n",
      "INFO\t2023-11-09 16:10:22\tCollectVariantCallingMetrics\tRead       500,000 variants.  Elapsed time: 00:00:02s.  Time for last 100,000:    0s.  Last read position: 20:22,271,180\n",
      "INFO\t2023-11-09 16:10:22\tCollectVariantCallingMetrics\tRead       600,000 variants.  Elapsed time: 00:00:03s.  Time for last 100,000:    0s.  Last read position: 20:26,130,451\n",
      "INFO\t2023-11-09 16:10:23\tCollectVariantCallingMetrics\tRead       700,000 variants.  Elapsed time: 00:00:03s.  Time for last 100,000:    0s.  Last read position: 20:33,077,370\n",
      "INFO\t2023-11-09 16:10:23\tCollectVariantCallingMetrics\tRead       800,000 variants.  Elapsed time: 00:00:04s.  Time for last 100,000:    0s.  Last read position: 20:37,824,616\n",
      "INFO\t2023-11-09 16:10:23\tCollectVariantCallingMetrics\tRead       900,000 variants.  Elapsed time: 00:00:04s.  Time for last 100,000:    0s.  Last read position: 20:42,440,655\n",
      "INFO\t2023-11-09 16:10:24\tCollectVariantCallingMetrics\tRead     1,000,000 variants.  Elapsed time: 00:00:04s.  Time for last 100,000:    0s.  Last read position: 20:46,743,895\n",
      "INFO\t2023-11-09 16:10:24\tCollectVariantCallingMetrics\tRead     1,100,000 variants.  Elapsed time: 00:00:05s.  Time for last 100,000:    0s.  Last read position: 20:51,013,385\n",
      "INFO\t2023-11-09 16:10:25\tCollectVariantCallingMetrics\tRead     1,200,000 variants.  Elapsed time: 00:00:05s.  Time for last 100,000:    0s.  Last read position: 20:55,225,515\n",
      "INFO\t2023-11-09 16:10:25\tCollectVariantCallingMetrics\tRead     1,300,000 variants.  Elapsed time: 00:00:06s.  Time for last 100,000:    0s.  Last read position: 20:59,463,386\n",
      "INFO\t2023-11-09 16:10:25\tCollectVariantCallingMetrics\tStarting iteration of variants.\n",
      "[Thu Nov 09 16:10:26 UTC 2023] picard.vcf.CollectVariantCallingMetrics done. Elapsed time: 0.12 minutes.\n",
      "Runtime.totalMemory()=293601280\n",
      "Tool returned:\n",
      "0\n"
     ]
    }
   ],
   "source": [
    "! gatk CollectVariantCallingMetrics \\\n",
    "    -I /home/jupyter/notebooks/2-germline-vd/sandbox/trioGGVCF.vcf \\\n",
    "    --DBSNP /home/jupyter/notebooks/2-germline-vd/resources/dbsnp.vcf \\\n",
    "    -O /home/jupyter/notebooks/2-germline-vd/sandbox/trioGGVCF_metrics"
   ]
  },
  {
   "cell_type": "code",
   "execution_count": 31,
   "metadata": {
    "colab": {},
    "colab_type": "code",
    "id": "YsdzBx-P_sZ7",
    "scrolled": false
   },
   "outputs": [
    {
     "name": "stdout",
     "output_type": "stream",
     "text": [
      "\r\n",
      "SAMPLE_ALIAS\tTOTAL_SNPS\tDBSNP_TITV\tTOTAL_INDELS\tDBSNP_INS_DEL_RATIO\r\n",
      "NA12882\t336\t1.813559\t66\t1.142857\r\n",
      "NA12878\t325\t1.817391\t69\t1.064516\r\n",
      "NA12877\t380\t1.9\t64\t1.178571\r\n",
      "\r\n",
      "\r\n"
     ]
    }
   ],
   "source": [
    "! cat /home/jupyter/notebooks/2-germline-vd/sandbox/trioGGVCF_metrics.variant_calling_detail_metrics | grep -v \"##\" | grep -v \"#\" | cut -f1,6,11,13,18 \n"
   ]
  },
  {
   "cell_type": "code",
   "execution_count": 32,
   "metadata": {
    "colab": {},
    "colab_type": "code",
    "id": "QgFZNhvG_sZ9",
    "scrolled": true
   },
   "outputs": [
    {
     "name": "stdout",
     "output_type": "stream",
     "text": [
      "Using GATK jar /gatk/gatk-4.4.0.0/gatk-package-4.4.0.0-local.jar\n",
      "Running:\n",
      "    java -Dsamjdk.use_async_io_read_samtools=false -Dsamjdk.use_async_io_write_samtools=true -Dsamjdk.use_async_io_write_tribble=false -Dsamjdk.compression_level=2 -jar /gatk/gatk-4.4.0.0/gatk-package-4.4.0.0-local.jar CollectVariantCallingMetrics -I /home/jupyter/notebooks/2-germline-vd/sandbox/trioCGP.vcf --DBSNP /home/jupyter/notebooks/2-germline-vd/resources/dbsnp.vcf -O /home/jupyter/notebooks/2-germline-vd/sandbox/trioCGP_metrics\n",
      "16:10:30.361 INFO  NativeLibraryLoader - Loading libgkl_compression.so from jar:file:/gatk/gatk-4.4.0.0/gatk-package-4.4.0.0-local.jar!/com/intel/gkl/native/libgkl_compression.so\n",
      "[Thu Nov 09 16:10:30 UTC 2023] CollectVariantCallingMetrics --INPUT /home/jupyter/notebooks/2-germline-vd/sandbox/trioCGP.vcf --OUTPUT /home/jupyter/notebooks/2-germline-vd/sandbox/trioCGP_metrics --DBSNP /home/jupyter/notebooks/2-germline-vd/resources/dbsnp.vcf --GVCF_INPUT false --THREAD_COUNT 1 --VERBOSITY INFO --QUIET false --VALIDATION_STRINGENCY STRICT --COMPRESSION_LEVEL 2 --MAX_RECORDS_IN_RAM 500000 --CREATE_INDEX false --CREATE_MD5_FILE false --help false --version false --showHidden false --USE_JDK_DEFLATER false --USE_JDK_INFLATER false\n",
      "[Thu Nov 09 16:10:30 UTC 2023] Executing as jupyter@8eacd9ff8491 on Linux 5.15.133+ amd64; OpenJDK 64-Bit Server VM 17.0.8.1+1-Ubuntu-0ubuntu120.04; Deflater: Intel; Inflater: Intel; Provider GCS is available; Picard version: Version:4.4.0.0\n",
      "INFO\t2023-11-09 16:10:30\tCollectVariantCallingMetrics\tLoading dbSNP file ...\n",
      "INFO\t2023-11-09 16:10:31\tCollectVariantCallingMetrics\tRead       100,000 variants.  Elapsed time: 00:00:01s.  Time for last 100,000:    1s.  Last read position: 20:4,248,175\n",
      "INFO\t2023-11-09 16:10:31\tCollectVariantCallingMetrics\tRead       200,000 variants.  Elapsed time: 00:00:01s.  Time for last 100,000:    0s.  Last read position: 20:8,608,362\n",
      "INFO\t2023-11-09 16:10:32\tCollectVariantCallingMetrics\tRead       300,000 variants.  Elapsed time: 00:00:01s.  Time for last 100,000:    0s.  Last read position: 20:13,151,341\n",
      "INFO\t2023-11-09 16:10:32\tCollectVariantCallingMetrics\tRead       400,000 variants.  Elapsed time: 00:00:02s.  Time for last 100,000:    0s.  Last read position: 20:17,712,741\n",
      "INFO\t2023-11-09 16:10:33\tCollectVariantCallingMetrics\tRead       500,000 variants.  Elapsed time: 00:00:02s.  Time for last 100,000:    0s.  Last read position: 20:22,271,180\n",
      "INFO\t2023-11-09 16:10:33\tCollectVariantCallingMetrics\tRead       600,000 variants.  Elapsed time: 00:00:03s.  Time for last 100,000:    0s.  Last read position: 20:26,130,451\n",
      "INFO\t2023-11-09 16:10:34\tCollectVariantCallingMetrics\tRead       700,000 variants.  Elapsed time: 00:00:03s.  Time for last 100,000:    0s.  Last read position: 20:33,077,370\n",
      "INFO\t2023-11-09 16:10:34\tCollectVariantCallingMetrics\tRead       800,000 variants.  Elapsed time: 00:00:04s.  Time for last 100,000:    0s.  Last read position: 20:37,824,616\n",
      "INFO\t2023-11-09 16:10:34\tCollectVariantCallingMetrics\tRead       900,000 variants.  Elapsed time: 00:00:04s.  Time for last 100,000:    0s.  Last read position: 20:42,440,655\n",
      "INFO\t2023-11-09 16:10:35\tCollectVariantCallingMetrics\tRead     1,000,000 variants.  Elapsed time: 00:00:04s.  Time for last 100,000:    0s.  Last read position: 20:46,743,895\n",
      "INFO\t2023-11-09 16:10:35\tCollectVariantCallingMetrics\tRead     1,100,000 variants.  Elapsed time: 00:00:05s.  Time for last 100,000:    0s.  Last read position: 20:51,013,385\n",
      "INFO\t2023-11-09 16:10:36\tCollectVariantCallingMetrics\tRead     1,200,000 variants.  Elapsed time: 00:00:05s.  Time for last 100,000:    0s.  Last read position: 20:55,225,515\n",
      "INFO\t2023-11-09 16:10:36\tCollectVariantCallingMetrics\tRead     1,300,000 variants.  Elapsed time: 00:00:06s.  Time for last 100,000:    0s.  Last read position: 20:59,463,386\n",
      "INFO\t2023-11-09 16:10:37\tCollectVariantCallingMetrics\tStarting iteration of variants.\n",
      "[Thu Nov 09 16:10:37 UTC 2023] picard.vcf.CollectVariantCallingMetrics done. Elapsed time: 0.11 minutes.\n",
      "Runtime.totalMemory()=226492416\n",
      "Tool returned:\n",
      "0\n"
     ]
    }
   ],
   "source": [
    "! gatk CollectVariantCallingMetrics \\\n",
    "    -I /home/jupyter/notebooks/2-germline-vd/sandbox/trioCGP.vcf \\\n",
    "    --DBSNP /home/jupyter/notebooks/2-germline-vd/resources/dbsnp.vcf \\\n",
    "    -O /home/jupyter/notebooks/2-germline-vd/sandbox/trioCGP_metrics"
   ]
  },
  {
   "cell_type": "code",
   "execution_count": 33,
   "metadata": {
    "colab": {},
    "colab_type": "code",
    "id": "URGyc4VU_sZ-",
    "scrolled": true
   },
   "outputs": [
    {
     "name": "stdout",
     "output_type": "stream",
     "text": [
      "\r\n",
      "SAMPLE_ALIAS\tTOTAL_SNPS\tDBSNP_TITV\tTOTAL_INDELS\tDBSNP_INS_DEL_RATIO\r\n",
      "NA12882\t339\t1.815126\t73\t1.09375\r\n",
      "NA12878\t330\t1.843478\t74\t1.125\r\n",
      "NA12877\t386\t1.930769\t72\t1.233333\r\n",
      "\r\n",
      "\r\n"
     ]
    }
   ],
   "source": [
    "! cat /home/jupyter/notebooks/2-germline-vd/sandbox/trioCGP_metrics.variant_calling_detail_metrics | grep -v \"##\" | grep -v \"#\" | cut -f1,6,11,13,18 \n"
   ]
  },
  {
   "cell_type": "markdown",
   "metadata": {
    "colab_type": "text",
    "id": "A_mHcvvE_saA"
   },
   "source": [
    "CollectVariantCallingMetrics produces both summary and detail metrics. The summary metrics provide cohort-level variant metrics, while the detail metrics segment the variant metrics for each sample in the callset, and add a few more fields. (You can read about all metrics more in-depth [here](https://broadinstitute.github.io/picard/picard-metric-definitions.html).)\n",
    "\n",
    "For our purposes, we have subset the detailed metrics to a smaller number of columns to discuss here.\n",
    "\n",
    "**Total SNPS and Total INDELS**\n",
    "Comparing the two files, you will see that we recovered 3 SNP sites in the mother (NA12878) and 4 in the father (NA12887). We also recovered indels for each of the three samples.\n",
    "\n",
    "**DBSNP_TITV**\n",
    "This column shows the transition (Ti) transversion(Tv) ratio. In whole-genome samples, we expect the ratio to be between 2 and 2.1. We see a slight improvement in this ratio for the father (NA12877) and the mother (NA12878), but they are still below 2, which could indicate a higher rate of false positives in the callset. Further filtering would improve this score.\n",
    "\n",
    "**DBNSP_INS_DEL_RATIO**\n",
    "This column shows the ratio of insertions to deletions, which we expect to be about 1 for common variant studies. As we haven't specifically picked these samples to diagnose a rare disease, common variation has equal selective pressure on insertion and deletion events, so we find those to be about even. In rare disease, we often see a ratio of 0.2-0.5. Our results show that the numbers stay about the same or increase very slightly. It's not a strong indicator of success, but it does show that we didn't completely imbalance the callset by applying Genotype Refinement to fix those two odd sites."
   ]
  },
  {
   "cell_type": "code",
   "execution_count": null,
   "metadata": {
    "scrolled": true
   },
   "outputs": [],
   "source": []
  }
 ],
 "metadata": {
  "colab": {
   "collapsed_sections": [
    "BBrmheMG_sZG",
    "Iu6orTDv_sZR",
    "0oFkVkw1_sZb",
    "F_dbLOnE_sZo",
    "gmQGbP1z_sZx",
    "4sD0IyWa_sZ5"
   ],
   "name": "Copy of 1-gatk-germline-variant-discovery-tutorial.ipynb",
   "provenance": [
    {
     "file_id": "1VFcu-Jr9oRnvSbrLiQZpBPyz-ql5EyhJ",
     "timestamp": 1560184402246
    }
   ],
   "toc_visible": true,
   "version": "0.3.2"
  },
  "kernelspec": {
   "display_name": "Python 3",
   "language": "python",
   "name": "python3"
  },
  "language_info": {
   "codemirror_mode": {
    "name": "ipython",
    "version": 3
   },
   "file_extension": ".py",
   "mimetype": "text/x-python",
   "name": "python",
   "nbconvert_exporter": "python",
   "pygments_lexer": "ipython3",
   "version": "3.6.10"
  },
  "toc": {
   "base_numbering": 1,
   "nav_menu": {
    "height": "304px",
    "width": "424px"
   },
   "number_sections": true,
   "sideBar": true,
   "skip_h1_title": false,
   "title_cell": "Table of Contents",
   "title_sidebar": "Contents",
   "toc_cell": false,
   "toc_position": {
    "height": "calc(100% - 180px)",
    "left": "10px",
    "top": "150px",
    "width": "343.594px"
   },
   "toc_section_display": true,
   "toc_window_display": true
  }
 },
 "nbformat": 4,
 "nbformat_minor": 1
}
